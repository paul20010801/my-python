{
 "cells": [
  {
   "cell_type": "code",
   "execution_count": 3,
   "metadata": {},
   "outputs": [],
   "source": [
    "%matplotlib inline \n",
    "import numpy as np\n",
    "import matplotlib.pyplot as plt\n",
    "import pandas as pd\n"
   ]
  },
  {
   "cell_type": "code",
   "execution_count": 5,
   "metadata": {},
   "outputs": [],
   "source": [
    "groups = [\"Movies\", \"Sports\", \"Coding\", \"Fishing\", \"Dancing\", \"cooking\"]  \n",
    "num = [46, 8, 12, 12, 6, 58]\n",
    "dict = {\"groups\": groups, \"num\": num} \n",
    "select_df = pd.DataFrame(dict)\n",
    "\n",
    "       \n",
    "      "
   ]
  },
  {
   "cell_type": "code",
   "execution_count": 6,
   "metadata": {},
   "outputs": [
    {
     "name": "stdout",
     "output_type": "stream",
     "text": [
      "0    46\n",
      "1     8\n",
      "2    12\n",
      "3    12\n",
      "4     6\n",
      "5    58\n",
      "Name: num, dtype: int64\n"
     ]
    }
   ],
   "source": [
    "print(select_df.iloc[:,1])"
   ]
  },
  {
   "cell_type": "code",
   "execution_count": 7,
   "metadata": {},
   "outputs": [
    {
     "name": "stdout",
     "output_type": "stream",
     "text": [
      "0    46\n",
      "1     8\n",
      "2    12\n",
      "3    12\n",
      "4     6\n",
      "5    58\n",
      "Name: num, dtype: int64\n"
     ]
    }
   ],
   "source": [
    "print(select_df[\"num\"])"
   ]
  },
  {
   "cell_type": "code",
   "execution_count": 8,
   "metadata": {},
   "outputs": [
    {
     "name": "stdout",
     "output_type": "stream",
     "text": [
      "46\n"
     ]
    }
   ],
   "source": [
    "print(select_df.iloc[0, 1])"
   ]
  },
  {
   "cell_type": "code",
   "execution_count": 16,
   "metadata": {},
   "outputs": [],
   "source": [
    "df=pd.read_html('https://housing.kcg.gov.tw/LFA/LFA03/LFA03007004.jsp')\n"
   ]
  },
  {
   "cell_type": "code",
   "execution_count": 17,
   "metadata": {},
   "outputs": [
    {
     "name": "stdout",
     "output_type": "stream",
     "text": [
      "0 16\n",
      "1 1\n",
      "2 1\n",
      "3 6\n",
      "4 6\n",
      "5 6\n",
      "6 6\n",
      "7 6\n",
      "8 6\n",
      "9 6\n",
      "10 6\n"
     ]
    }
   ],
   "source": [
    "for i, table in enumerate(df):\n",
    "    print(i, len(table))"
   ]
  },
  {
   "cell_type": "code",
   "execution_count": 18,
   "metadata": {},
   "outputs": [
    {
     "data": {
      "text/html": [
       "<div>\n",
       "<style scoped>\n",
       "    .dataframe tbody tr th:only-of-type {\n",
       "        vertical-align: middle;\n",
       "    }\n",
       "\n",
       "    .dataframe tbody tr th {\n",
       "        vertical-align: top;\n",
       "    }\n",
       "\n",
       "    .dataframe thead th {\n",
       "        text-align: right;\n",
       "    }\n",
       "</style>\n",
       "<table border=\"1\" class=\"dataframe\">\n",
       "  <thead>\n",
       "    <tr style=\"text-align: right;\">\n",
       "      <th></th>\n",
       "      <th>時間</th>\n",
       "      <th>時間.1</th>\n",
       "      <th>高雄市</th>\n",
       "      <th>高雄市.1</th>\n",
       "      <th>鹽埕區</th>\n",
       "      <th>鹽埕區.1</th>\n",
       "      <th>鼓山區</th>\n",
       "      <th>鼓山區.1</th>\n",
       "      <th>左營區</th>\n",
       "      <th>左營區.1</th>\n",
       "      <th>楠梓區</th>\n",
       "      <th>楠梓區.1</th>\n",
       "    </tr>\n",
       "  </thead>\n",
       "  <tbody>\n",
       "    <tr>\n",
       "      <th>0</th>\n",
       "      <td>年度</td>\n",
       "      <td>NaN</td>\n",
       "      <td>人口密度  (人/平方公里)</td>\n",
       "      <td>家戶密度  (戶/平方公里)</td>\n",
       "      <td>人口密度  (人/平方公里)</td>\n",
       "      <td>家戶密度  (戶/平方公里)</td>\n",
       "      <td>人口密度  (人/平方公里)</td>\n",
       "      <td>家戶密度  (戶/平方公里)</td>\n",
       "      <td>人口密度  (人/平方公里)</td>\n",
       "      <td>家戶密度  (戶/平方公里)</td>\n",
       "      <td>人口密度(人/平方公里)</td>\n",
       "      <td>家戶密度(戶/平方公里)</td>\n",
       "    </tr>\n",
       "    <tr>\n",
       "      <th>1</th>\n",
       "      <td>104</td>\n",
       "      <td>NaN</td>\n",
       "      <td>942</td>\n",
       "      <td>362</td>\n",
       "      <td>17794</td>\n",
       "      <td>7659</td>\n",
       "      <td>9238</td>\n",
       "      <td>3788</td>\n",
       "      <td>10107</td>\n",
       "      <td>3992</td>\n",
       "      <td>6941</td>\n",
       "      <td>2587</td>\n",
       "    </tr>\n",
       "    <tr>\n",
       "      <th>2</th>\n",
       "      <td>105</td>\n",
       "      <td>NaN</td>\n",
       "      <td>942</td>\n",
       "      <td>365</td>\n",
       "      <td>17515</td>\n",
       "      <td>7631</td>\n",
       "      <td>9311</td>\n",
       "      <td>3843</td>\n",
       "      <td>10143</td>\n",
       "      <td>4023</td>\n",
       "      <td>7006</td>\n",
       "      <td>2641</td>\n",
       "    </tr>\n",
       "    <tr>\n",
       "      <th>3</th>\n",
       "      <td>106</td>\n",
       "      <td>NaN</td>\n",
       "      <td>942</td>\n",
       "      <td>368</td>\n",
       "      <td>17247</td>\n",
       "      <td>7626</td>\n",
       "      <td>9398</td>\n",
       "      <td>3911</td>\n",
       "      <td>10165</td>\n",
       "      <td>4060</td>\n",
       "      <td>7078</td>\n",
       "      <td>2699</td>\n",
       "    </tr>\n",
       "    <tr>\n",
       "      <th>4</th>\n",
       "      <td>107</td>\n",
       "      <td>NaN</td>\n",
       "      <td>941</td>\n",
       "      <td>371</td>\n",
       "      <td>17060</td>\n",
       "      <td>7614</td>\n",
       "      <td>9474</td>\n",
       "      <td>3966</td>\n",
       "      <td>10151</td>\n",
       "      <td>4079</td>\n",
       "      <td>7151</td>\n",
       "      <td>2759</td>\n",
       "    </tr>\n",
       "  </tbody>\n",
       "</table>\n",
       "</div>"
      ],
      "text/plain": [
       "    時間  時間.1             高雄市           高雄市.1             鹽埕區           鹽埕區.1  \\\n",
       "0   年度   NaN  人口密度  (人/平方公里)  家戶密度  (戶/平方公里)  人口密度  (人/平方公里)  家戶密度  (戶/平方公里)   \n",
       "1  104   NaN             942             362           17794            7659   \n",
       "2  105   NaN             942             365           17515            7631   \n",
       "3  106   NaN             942             368           17247            7626   \n",
       "4  107   NaN             941             371           17060            7614   \n",
       "\n",
       "              鼓山區           鼓山區.1             左營區           左營區.1  \\\n",
       "0  人口密度  (人/平方公里)  家戶密度  (戶/平方公里)  人口密度  (人/平方公里)  家戶密度  (戶/平方公里)   \n",
       "1            9238            3788           10107            3992   \n",
       "2            9311            3843           10143            4023   \n",
       "3            9398            3911           10165            4060   \n",
       "4            9474            3966           10151            4079   \n",
       "\n",
       "            楠梓區         楠梓區.1  \n",
       "0  人口密度(人/平方公里)  家戶密度(戶/平方公里)  \n",
       "1          6941          2587  \n",
       "2          7006          2641  \n",
       "3          7078          2699  \n",
       "4          7151          2759  "
      ]
     },
     "execution_count": 18,
     "metadata": {},
     "output_type": "execute_result"
    }
   ],
   "source": [
    "df[3].head()"
   ]
  },
  {
   "cell_type": "code",
   "execution_count": null,
   "metadata": {},
   "outputs": [],
   "source": []
  }
 ],
 "metadata": {
  "kernelspec": {
   "display_name": "Python 3",
   "language": "python",
   "name": "python3"
  },
  "language_info": {
   "codemirror_mode": {
    "name": "ipython",
    "version": 3
   },
   "file_extension": ".py",
   "mimetype": "text/x-python",
   "name": "python",
   "nbconvert_exporter": "python",
   "pygments_lexer": "ipython3",
   "version": "3.7.3"
  }
 },
 "nbformat": 4,
 "nbformat_minor": 2
}
