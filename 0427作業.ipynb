{
 "cells": [
  {
   "cell_type": "code",
   "execution_count": null,
   "metadata": {},
   "outputs": [],
   "source": [
    "%matplotlib inline\n",
    "import numpy as np\n",
    "import matplotlib.pyplot as plt\n",
    "import tensorflow as tf\n",
    "import pandas as pd"
   ]
  },
  {
   "cell_type": "markdown",
   "metadata": {},
   "source": [
    "### 1.讀入深度學習套件"
   ]
  },
  {
   "cell_type": "code",
   "execution_count": 53,
   "metadata": {},
   "outputs": [],
   "source": [
    "from tensorflow.keras.preprocessing import sequence\n",
    "from tensorflow.keras.models import Sequential\n",
    "from tensorflow.keras.layers import Dense, Embedding\n",
    "from tensorflow.keras.layers import LSTM\n",
    "from tensorflow.keras.datasets import imdb"
   ]
  },
  {
   "cell_type": "markdown",
   "metadata": {},
   "source": [
    "## 2.讀入數據"
   ]
  },
  {
   "cell_type": "code",
   "execution_count": 54,
   "metadata": {},
   "outputs": [],
   "source": [
    "(x_train, y_train), (x_test, y_test) = imdb.load_data(num_words=10000)"
   ]
  },
  {
   "cell_type": "code",
   "execution_count": 55,
   "metadata": {},
   "outputs": [
    {
     "data": {
      "text/plain": [
       "25000"
      ]
     },
     "execution_count": 55,
     "metadata": {},
     "output_type": "execute_result"
    }
   ],
   "source": [
    "len(x_test)"
   ]
  },
  {
   "cell_type": "code",
   "execution_count": 56,
   "metadata": {},
   "outputs": [
    {
     "data": {
      "text/plain": [
       "218"
      ]
     },
     "execution_count": 56,
     "metadata": {},
     "output_type": "execute_result"
    }
   ],
   "source": [
    "len(x_train[0])"
   ]
  },
  {
   "cell_type": "code",
   "execution_count": 57,
   "metadata": {},
   "outputs": [
    {
     "data": {
      "text/plain": [
       "189"
      ]
     },
     "execution_count": 57,
     "metadata": {},
     "output_type": "execute_result"
    }
   ],
   "source": [
    "len(x_train[1])"
   ]
  },
  {
   "cell_type": "code",
   "execution_count": 58,
   "metadata": {},
   "outputs": [
    {
     "data": {
      "text/plain": [
       "0"
      ]
     },
     "execution_count": 58,
     "metadata": {},
     "output_type": "execute_result"
    }
   ],
   "source": [
    "y_train[1]"
   ]
  },
  {
   "cell_type": "code",
   "execution_count": 59,
   "metadata": {},
   "outputs": [
    {
     "data": {
      "text/plain": [
       "1"
      ]
     },
     "execution_count": 59,
     "metadata": {},
     "output_type": "execute_result"
    }
   ],
   "source": [
    "y_train[0]"
   ]
  },
  {
   "cell_type": "markdown",
   "metadata": {},
   "source": [
    "### 3.資料處理"
   ]
  },
  {
   "cell_type": "code",
   "execution_count": 68,
   "metadata": {},
   "outputs": [],
   "source": [
    "x_train = sequence.pad_sequences(x_train, maxlen=100)\n",
    "x_test = sequence.pad_sequences(x_test, maxlen=100)"
   ]
  },
  {
   "cell_type": "markdown",
   "metadata": {},
   "source": [
    "### 4.打造一個函數學習機"
   ]
  },
  {
   "cell_type": "code",
   "execution_count": 69,
   "metadata": {},
   "outputs": [],
   "source": [
    "model=Sequential()"
   ]
  },
  {
   "cell_type": "code",
   "execution_count": 70,
   "metadata": {},
   "outputs": [],
   "source": [
    "model.add(Embedding(10000,128)) "
   ]
  },
  {
   "cell_type": "code",
   "execution_count": 71,
   "metadata": {},
   "outputs": [],
   "source": [
    " model.add(LSTM(64, dropout=0.1, recurrent_dropout=0.1))  ##LSTM 更改成64 ## dropout改成0.1"
   ]
  },
  {
   "cell_type": "code",
   "execution_count": 72,
   "metadata": {},
   "outputs": [],
   "source": [
    "model.add(Dense(1,activation='sigmoid'))"
   ]
  },
  {
   "cell_type": "code",
   "execution_count": 73,
   "metadata": {},
   "outputs": [],
   "source": [
    "model.compile(loss='binary_crossentropy',\n",
    "             optimizer='adam',\n",
    "             metrics=['accuracy'])\n"
   ]
  },
  {
   "cell_type": "code",
   "execution_count": 74,
   "metadata": {
    "scrolled": true
   },
   "outputs": [
    {
     "name": "stdout",
     "output_type": "stream",
     "text": [
      "Model: \"sequential_4\"\n",
      "_________________________________________________________________\n",
      "Layer (type)                 Output Shape              Param #   \n",
      "=================================================================\n",
      "embedding_9 (Embedding)      (None, None, 128)         1280000   \n",
      "_________________________________________________________________\n",
      "lstm_7 (LSTM)                (None, 64)                49408     \n",
      "_________________________________________________________________\n",
      "dense_6 (Dense)              (None, 1)                 65        \n",
      "=================================================================\n",
      "Total params: 1,329,473\n",
      "Trainable params: 1,329,473\n",
      "Non-trainable params: 0\n",
      "_________________________________________________________________\n"
     ]
    }
   ],
   "source": [
    "model.summary()"
   ]
  },
  {
   "cell_type": "code",
   "execution_count": null,
   "metadata": {},
   "outputs": [],
   "source": []
  },
  {
   "cell_type": "markdown",
   "metadata": {},
   "source": [
    "### 5.訓練\n",
    "\n"
   ]
  },
  {
   "cell_type": "code",
   "execution_count": 75,
   "metadata": {},
   "outputs": [
    {
     "name": "stdout",
     "output_type": "stream",
     "text": [
      "Train on 25000 samples, validate on 25000 samples\n",
      "Epoch 1/15\n",
      "25000/25000 [==============================] - 167s 7ms/sample - loss: 0.4413 - acc: 0.7938 - val_loss: 0.3905 - val_acc: 0.8322\n",
      "Epoch 2/15\n",
      "25000/25000 [==============================] - 167s 7ms/sample - loss: 0.2994 - acc: 0.8773 - val_loss: 0.3524 - val_acc: 0.8476\n",
      "Epoch 3/15\n",
      "25000/25000 [==============================] - 167s 7ms/sample - loss: 0.2312 - acc: 0.9082 - val_loss: 0.3758 - val_acc: 0.8415\n",
      "Epoch 4/15\n",
      "25000/25000 [==============================] - 165s 7ms/sample - loss: 0.1752 - acc: 0.9323 - val_loss: 0.5693 - val_acc: 0.8188\n",
      "Epoch 5/15\n",
      "25000/25000 [==============================] - 104s 4ms/sample - loss: 0.1335 - acc: 0.9502 - val_loss: 0.4528 - val_acc: 0.8394\n",
      "Epoch 6/15\n",
      "25000/25000 [==============================] - 99s 4ms/sample - loss: 0.1008 - acc: 0.9638 - val_loss: 0.6167 - val_acc: 0.8307\n",
      "Epoch 7/15\n",
      "25000/25000 [==============================] - 103s 4ms/sample - loss: 0.0796 - acc: 0.9730 - val_loss: 0.5757 - val_acc: 0.8280\n",
      "Epoch 8/15\n",
      "25000/25000 [==============================] - 105s 4ms/sample - loss: 0.0642 - acc: 0.9781 - val_loss: 0.6457 - val_acc: 0.8216\n",
      "Epoch 9/15\n",
      "25000/25000 [==============================] - 103s 4ms/sample - loss: 0.0554 - acc: 0.9820 - val_loss: 0.7442 - val_acc: 0.8312\n",
      "Epoch 10/15\n",
      "25000/25000 [==============================] - 103s 4ms/sample - loss: 0.0450 - acc: 0.9856 - val_loss: 0.7992 - val_acc: 0.8296\n",
      "Epoch 11/15\n",
      "25000/25000 [==============================] - 103s 4ms/sample - loss: 0.0321 - acc: 0.9896 - val_loss: 0.7437 - val_acc: 0.8251\n",
      "Epoch 12/15\n",
      "25000/25000 [==============================] - 103s 4ms/sample - loss: 0.0243 - acc: 0.9926 - val_loss: 0.9327 - val_acc: 0.8310\n",
      "Epoch 13/15\n",
      "25000/25000 [==============================] - 103s 4ms/sample - loss: 0.0254 - acc: 0.9920 - val_loss: 0.9219 - val_acc: 0.8212\n",
      "Epoch 14/15\n",
      "25000/25000 [==============================] - 103s 4ms/sample - loss: 0.0214 - acc: 0.9932 - val_loss: 0.9621 - val_acc: 0.8308\n",
      "Epoch 15/15\n",
      "25000/25000 [==============================] - 103s 4ms/sample - loss: 0.0200 - acc: 0.9940 - val_loss: 0.9515 - val_acc: 0.8281\n"
     ]
    },
    {
     "data": {
      "text/plain": [
       "<tensorflow.python.keras.callbacks.History at 0x1d19d138ec8>"
      ]
     },
     "execution_count": 75,
     "metadata": {},
     "output_type": "execute_result"
    }
   ],
   "source": [
    "model.fit(x_train, y_train, batch_size=30, epochs=15,\n",
    "         validation_data=(x_test, y_test))  ##epochs改為15"
   ]
  },
  {
   "cell_type": "code",
   "execution_count": 76,
   "metadata": {},
   "outputs": [],
   "source": [
    "model_json = model.to_json()\n",
    "open('imdb_model_architecture.json','w').write(model_json)\n",
    "model.save_weights('imdb_model_weights.h5')"
   ]
  },
  {
   "cell_type": "code",
   "execution_count": null,
   "metadata": {},
   "outputs": [],
   "source": []
  }
 ],
 "metadata": {
  "kernelspec": {
   "display_name": "Python 3",
   "language": "python",
   "name": "python3"
  },
  "language_info": {
   "codemirror_mode": {
    "name": "ipython",
    "version": 3
   },
   "file_extension": ".py",
   "mimetype": "text/x-python",
   "name": "python",
   "nbconvert_exporter": "python",
   "pygments_lexer": "ipython3",
   "version": "3.7.6"
  }
 },
 "nbformat": 4,
 "nbformat_minor": 4
}
