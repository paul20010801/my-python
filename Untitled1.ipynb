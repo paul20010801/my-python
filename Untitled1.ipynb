{
 "cells": [
  {
   "cell_type": "code",
   "execution_count": null,
   "metadata": {},
   "outputs": [],
   "source": [
    "m='無聊的下雨天'\n",
    "while (m!='掰掰'):\n",
    "    m=input('>>')\n",
    "    if '最近都一直下雨' in m:\n",
    "        print('對啊好討厭')\n",
    "    elif'走去圖書館都會淋濕'in m:\n",
    "         print('可以搭公車')\n",
    "    elif'可是都排好多人喔...'in m:\n",
    "         print('那就不要出門啊')\n",
    "    elif'可是在宿舍都會睡著' in m:\n",
    "         print('拍拍')\n",
    "    \n",
    "\n"
   ]
  },
  {
   "cell_type": "code",
   "execution_count": null,
   "metadata": {},
   "outputs": [],
   "source": []
  },
  {
   "cell_type": "code",
   "execution_count": null,
   "metadata": {},
   "outputs": [],
   "source": []
  }
 ],
 "metadata": {
  "kernelspec": {
   "display_name": "Python 3",
   "language": "python",
   "name": "python3"
  },
  "language_info": {
   "codemirror_mode": {
    "name": "ipython",
    "version": 3
   },
   "file_extension": ".py",
   "mimetype": "text/x-python",
   "name": "python",
   "nbconvert_exporter": "python",
   "pygments_lexer": "ipython3",
   "version": "3.7.3"
  }
 },
 "nbformat": 4,
 "nbformat_minor": 2
}
