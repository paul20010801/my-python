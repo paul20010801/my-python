{
 "cells": [
  {
   "cell_type": "code",
   "execution_count": 9,
   "metadata": {},
   "outputs": [],
   "source": [
    "%matplotlib inline\n",
    "\n",
    "import numpy as np\n",
    "import matplotlib.pyplot as plt\n",
    "import pandas as pd"
   ]
  },
  {
   "cell_type": "code",
   "execution_count": 10,
   "metadata": {},
   "outputs": [],
   "source": [
    "import tensorflow as tf"
   ]
  },
  {
   "cell_type": "code",
   "execution_count": 11,
   "metadata": {},
   "outputs": [],
   "source": [
    "from tensorflow.keras.datasets import fashion_mnist"
   ]
  },
  {
   "cell_type": "code",
   "execution_count": 12,
   "metadata": {},
   "outputs": [],
   "source": [
    "(x_train, y_train), (x_test, y_test) = fashion_mnist.load_data()"
   ]
  },
  {
   "cell_type": "code",
   "execution_count": 13,
   "metadata": {},
   "outputs": [],
   "source": [
    "class_names = ['T-shirt/top', 'Trouser', 'Pullover', 'Dress', 'Coat',\n",
    "               'Sandal', 'Shirt', 'Sneaker', 'Bag', 'Ankle boot']\n"
   ]
  },
  {
   "cell_type": "code",
   "execution_count": 17,
   "metadata": {},
   "outputs": [
    {
     "name": "stdout",
     "output_type": "stream",
     "text": [
      "Trouser\n"
     ]
    },
    {
     "data": {
      "image/png": "[encoded data removed]",
      "text/plain": [
       "<Figure size 432x288 with 1 Axes>"
      ]
     },
     "metadata": {
      "needs_background": "light"
     },
     "output_type": "display_data"
    }
   ],
   "source": [
    "n=16\n",
    "print(class_names[y_train[n]])\n",
    "plt.imshow(x_train[n], cmap='BrBG');"
   ]
  },
  {
   "cell_type": "code",
   "execution_count": 18,
   "metadata": {},
   "outputs": [],
   "source": [
    "x_train = x_train / 255\n",
    "x_test = x_test / 255"
   ]
  },
  {
   "cell_type": "code",
   "execution_count": 19,
   "metadata": {},
   "outputs": [],
   "source": [
    "x_train = x_train.reshape(60000,784)\n",
    "x_test = x_test.reshape(10000,784)"
   ]
  },
  {
   "cell_type": "code",
   "execution_count": 20,
   "metadata": {},
   "outputs": [],
   "source": [
    "from tensorflow.keras.utils import to_categorical"
   ]
  },
  {
   "cell_type": "code",
   "execution_count": 21,
   "metadata": {},
   "outputs": [],
   "source": [
    "y_train = to_categorical(y_train, 10)"
   ]
  },
  {
   "cell_type": "code",
   "execution_count": 22,
   "metadata": {},
   "outputs": [],
   "source": [
    "\n",
    "y_test = to_categorical(y_test, 10)"
   ]
  },
  {
   "cell_type": "markdown",
   "metadata": {},
   "source": [
    "## 打造神經網路"
   ]
  },
  {
   "cell_type": "code",
   "execution_count": 27,
   "metadata": {},
   "outputs": [],
   "source": [
    "from tensorflow.keras.models import Sequential\n",
    "from tensorflow.keras.layers import Dense\n",
    "from tensorflow.keras.optimizers import SGD"
   ]
  },
  {
   "cell_type": "markdown",
   "metadata": {},
   "source": [
    "## 開一台空白的機器學習機"
   ]
  },
  {
   "cell_type": "code",
   "execution_count": null,
   "metadata": {},
   "outputs": [],
   "source": [
    "model = Sequential()"
   ]
  },
  {
   "cell_type": "code",
   "execution_count": 29,
   "metadata": {},
   "outputs": [],
   "source": [
    "model.add(Dense(88, input_dim = 784, activation = 'relu'))\n",
    "model.add(Dense(821, activation = 'relu'))\n",
    "model.add(Dense(325, activation = 'relu'))\n",
    "model.add(Dense(10, activation = 'softmax'))"
   ]
  },
  {
   "cell_type": "markdown",
   "metadata": {},
   "source": [
    "## 組裝神經網路"
   ]
  },
  {
   "cell_type": "code",
   "execution_count": 30,
   "metadata": {},
   "outputs": [],
   "source": [
    "model.compile(loss='mse', optimizer=SGD(lr=0.06), metrics=['accuracy'])"
   ]
  },
  {
   "cell_type": "code",
   "execution_count": 31,
   "metadata": {},
   "outputs": [
    {
     "name": "stdout",
     "output_type": "stream",
     "text": [
      "Model: \"sequential_1\"\n",
      "_________________________________________________________________\n",
      "Layer (type)                 Output Shape              Param #   \n",
      "=================================================================\n",
      "dense_4 (Dense)              (None, 88)                69080     \n",
      "_________________________________________________________________\n",
      "dense_5 (Dense)              (None, 821)               73069     \n",
      "_________________________________________________________________\n",
      "dense_6 (Dense)              (None, 325)               267150    \n",
      "_________________________________________________________________\n",
      "dense_7 (Dense)              (None, 10)                3260      \n",
      "=================================================================\n",
      "Total params: 412,559\n",
      "Trainable params: 412,559\n",
      "Non-trainable params: 0\n",
      "_________________________________________________________________\n"
     ]
    }
   ],
   "source": [
    "model.summary()"
   ]
  },
  {
   "cell_type": "markdown",
   "metadata": {},
   "source": [
    "## 訓練"
   ]
  },
  {
   "cell_type": "code",
   "execution_count": 33,
   "metadata": {},
   "outputs": [
    {
     "name": "stdout",
     "output_type": "stream",
     "text": [
      "Epoch 1/15\n",
      "60000/60000 [==============================] - 2s 32us/sample - loss: 0.0355 - acc: 0.7664\n",
      "Epoch 2/15\n",
      "60000/60000 [==============================] - 2s 34us/sample - loss: 0.0347 - acc: 0.7731\n",
      "Epoch 3/15\n",
      "60000/60000 [==============================] - 2s 33us/sample - loss: 0.0340 - acc: 0.7793\n",
      "Epoch 4/15\n",
      "60000/60000 [==============================] - 2s 33us/sample - loss: 0.0334 - acc: 0.7850\n",
      "Epoch 5/15\n",
      "60000/60000 [==============================] - 2s 36us/sample - loss: 0.0328 - acc: 0.7887\n",
      "Epoch 6/15\n",
      "60000/60000 [==============================] - 2s 35us/sample - loss: 0.0322 - acc: 0.7930\n",
      "Epoch 7/15\n",
      "60000/60000 [==============================] - 2s 35us/sample - loss: 0.0317 - acc: 0.7962\n",
      "Epoch 8/15\n",
      "60000/60000 [==============================] - 2s 33us/sample - loss: 0.0312 - acc: 0.7988\n",
      "Epoch 9/15\n",
      "60000/60000 [==============================] - 2s 31us/sample - loss: 0.0307 - acc: 0.8014\n",
      "Epoch 10/15\n",
      "60000/60000 [==============================] - 2s 34us/sample - loss: 0.0303 - acc: 0.80360s - loss: 0.0303 - a\n",
      "Epoch 11/15\n",
      "60000/60000 [==============================] - 2s 37us/sample - loss: 0.0299 - acc: 0.8049\n",
      "Epoch 12/15\n",
      "60000/60000 [==============================] - 2s 35us/sample - loss: 0.0295 - acc: 0.8079\n",
      "Epoch 13/15\n",
      "60000/60000 [==============================] - 2s 37us/sample - loss: 0.0292 - acc: 0.8093\n",
      "Epoch 14/15\n",
      "60000/60000 [==============================] - 2s 33us/sample - loss: 0.0288 - acc: 0.8109\n",
      "Epoch 15/15\n",
      "60000/60000 [==============================] - 2s 32us/sample - loss: 0.0285 - acc: 0.8123\n"
     ]
    },
    {
     "data": {
      "text/plain": [
       "<tensorflow.python.keras.callbacks.History at 0x2771b676988>"
      ]
     },
     "execution_count": 33,
     "metadata": {},
     "output_type": "execute_result"
    }
   ],
   "source": [
    "model.fit(x_train, y_train, batch_size=500, epochs=15)"
   ]
  },
  {
   "cell_type": "code",
   "execution_count": 34,
   "metadata": {},
   "outputs": [
    {
     "name": "stdout",
     "output_type": "stream",
     "text": [
      "Epoch 1/15\n",
      "60000/60000 [==============================] - 2s 32us/sample - loss: 0.0282 - acc: 0.8138\n",
      "Epoch 2/15\n",
      "60000/60000 [==============================] - 2s 34us/sample - loss: 0.0280 - acc: 0.81561s \n",
      "Epoch 3/15\n",
      "60000/60000 [==============================] - 2s 37us/sample - loss: 0.0277 - acc: 0.8166\n",
      "Epoch 4/15\n",
      "60000/60000 [==============================] - 2s 37us/sample - loss: 0.0274 - acc: 0.8187\n",
      "Epoch 5/15\n",
      "60000/60000 [==============================] - 2s 34us/sample - loss: 0.0272 - acc: 0.8207\n",
      "Epoch 6/15\n",
      "60000/60000 [==============================] - 2s 29us/sample - loss: 0.0270 - acc: 0.8212\n",
      "Epoch 7/15\n",
      "60000/60000 [==============================] - 2s 29us/sample - loss: 0.0268 - acc: 0.8226\n",
      "Epoch 8/15\n",
      "60000/60000 [==============================] - 2s 30us/sample - loss: 0.0266 - acc: 0.8233\n",
      "Epoch 9/15\n",
      "60000/60000 [==============================] - 2s 32us/sample - loss: 0.0264 - acc: 0.8243\n",
      "Epoch 10/15\n",
      "60000/60000 [==============================] - 2s 38us/sample - loss: 0.0262 - acc: 0.8252\n",
      "Epoch 11/15\n",
      "60000/60000 [==============================] - 2s 35us/sample - loss: 0.0261 - acc: 0.8262\n",
      "Epoch 12/15\n",
      "60000/60000 [==============================] - 2s 38us/sample - loss: 0.0259 - acc: 0.8273\n",
      "Epoch 13/15\n",
      "60000/60000 [==============================] - 2s 33us/sample - loss: 0.0258 - acc: 0.8286\n",
      "Epoch 14/15\n",
      "60000/60000 [==============================] - 2s 34us/sample - loss: 0.0256 - acc: 0.8292\n",
      "Epoch 15/15\n",
      "60000/60000 [==============================] - 2s 34us/sample - loss: 0.0255 - acc: 0.8294\n"
     ]
    },
    {
     "data": {
      "text/plain": [
       "<tensorflow.python.keras.callbacks.History at 0x2771b690c48>"
      ]
     },
     "execution_count": 34,
     "metadata": {},
     "output_type": "execute_result"
    }
   ],
   "source": [
    "model.fit(x_train, y_train, batch_size=500, epochs=15)"
   ]
  },
  {
   "cell_type": "code",
   "execution_count": 35,
   "metadata": {},
   "outputs": [],
   "source": [
    "result = model.predict_classes(x_test)"
   ]
  },
  {
   "cell_type": "code",
   "execution_count": 36,
   "metadata": {},
   "outputs": [
    {
     "data": {
      "image/png": "[encoded data removed]",
      "text/plain": [
       "<Figure size 432x288 with 3 Axes>"
      ]
     },
     "metadata": {
      "needs_background": "light"
     },
     "output_type": "display_data"
    }
   ],
   "source": [
    "for i in range(3):\n",
    "    plt.subplot(1,3,i+1)\n",
    "    plt.imshow(x_test[i].reshape(28,28), cmap='Greys')\n",
    "    plt.title(class_names[result[i]])"
   ]
  },
  {
   "cell_type": "code",
   "execution_count": null,
   "metadata": {},
   "outputs": [],
   "source": []
  }
 ],
 "metadata": {
  "kernelspec": {
   "display_name": "Python 3",
   "language": "python",
   "name": "python3"
  },
  "language_info": {
   "codemirror_mode": {
    "name": "ipython",
    "version": 3
   },
   "file_extension": ".py",
   "mimetype": "text/x-python",
   "name": "python",
   "nbconvert_exporter": "python",
   "pygments_lexer": "ipython3",
   "version": "3.7.6"
  }
 },
 "nbformat": 4,
 "nbformat_minor": 2
}
