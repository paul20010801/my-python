{
 "cells": [
  {
   "cell_type": "code",
   "execution_count": 1,
   "metadata": {},
   "outputs": [],
   "source": [
    "%matplotlib inline \n",
    "import numpy as np\n",
    "import matplotlib.pyplot as plt\n",
    "import pandas as pd"
   ]
  },
  {
   "cell_type": "markdown",
   "metadata": {},
   "source": [
    "## array oriented programming"
   ]
  },
  {
   "cell_type": "code",
   "execution_count": 2,
   "metadata": {},
   "outputs": [],
   "source": [
    "grades= [56,62,71,45,70]"
   ]
  },
  {
   "cell_type": "code",
   "execution_count": 4,
   "metadata": {},
   "outputs": [
    {
     "name": "stdout",
     "output_type": "stream",
     "text": [
      "調整後成績:74.83\n",
      "調整後成績:78.74\n",
      "調整後成績:84.26\n",
      "調整後成績:67.08\n",
      "調整後成績:83.67\n"
     ]
    }
   ],
   "source": [
    "new_grades = []\n",
    "for p in grades:\n",
    "    new_p= np.sqrt(p)*10\n",
    "    print(f'調整後成績:{new_p:.2f}')\n",
    "    new_grades.append(new_p)\n"
   ]
  },
  {
   "cell_type": "code",
   "execution_count": 8,
   "metadata": {},
   "outputs": [
    {
     "name": "stdout",
     "output_type": "stream",
     "text": [
      "調整後成績:89.83\n",
      "調整後成績:93.74\n",
      "調整後成績:99.26\n",
      "調整後成績:82.08\n",
      "調整後成績:98.67\n"
     ]
    }
   ],
   "source": [
    "new_grades = []\n",
    "for p in grades:\n",
    "    new_p= np.sqrt(p)*10+15\n",
    "    print(f'調整後成績:{new_p:.2f}')\n",
    "    new_grades.append(new_p)"
   ]
  },
  {
   "cell_type": "code",
   "execution_count": 9,
   "metadata": {},
   "outputs": [
    {
     "data": {
      "text/plain": [
       "[89.83314773547883,\n",
       " 93.74007874011811,\n",
       " 99.2614977317636,\n",
       " 82.0820393249937,\n",
       " 98.66600265340756]"
      ]
     },
     "execution_count": 9,
     "metadata": {},
     "output_type": "execute_result"
    }
   ],
   "source": [
    "new_grades"
   ]
  },
  {
   "cell_type": "code",
   "execution_count": 12,
   "metadata": {},
   "outputs": [
    {
     "data": {
      "text/plain": [
       "array([56, 62, 71, 45, 70])"
      ]
     },
     "execution_count": 12,
     "metadata": {},
     "output_type": "execute_result"
    }
   ],
   "source": [
    "arr_grades"
   ]
  },
  {
   "cell_type": "raw",
   "metadata": {},
   "source": []
  },
  {
   "cell_type": "code",
   "execution_count": 11,
   "metadata": {},
   "outputs": [],
   "source": [
    "arr_grades= np.array(grades)"
   ]
  },
  {
   "cell_type": "code",
   "execution_count": 13,
   "metadata": {},
   "outputs": [
    {
     "data": {
      "text/plain": [
       "array([74.83314774, 78.74007874, 84.26149773, 67.08203932, 83.66600265])"
      ]
     },
     "execution_count": 13,
     "metadata": {},
     "output_type": "execute_result"
    }
   ],
   "source": [
    "np.sqrt(arr_grades)*10"
   ]
  },
  {
   "cell_type": "code",
   "execution_count": 14,
   "metadata": {},
   "outputs": [
    {
     "data": {
      "text/plain": [
       "array([89.83314774, 93.74007874, 99.26149773, 82.08203932, 98.66600265])"
      ]
     },
     "execution_count": 14,
     "metadata": {},
     "output_type": "execute_result"
    }
   ],
   "source": [
    "np.sqrt(arr_grades)*10+15"
   ]
  },
  {
   "cell_type": "code",
   "execution_count": 15,
   "metadata": {},
   "outputs": [],
   "source": [
    "arr_new_grades = np.sqrt(arr_grades)*10+15"
   ]
  },
  {
   "cell_type": "code",
   "execution_count": 16,
   "metadata": {},
   "outputs": [
    {
     "data": {
      "text/plain": [
       "array([89.83314774, 93.74007874, 99.26149773, 82.08203932, 98.66600265])"
      ]
     },
     "execution_count": 16,
     "metadata": {},
     "output_type": "execute_result"
    }
   ],
   "source": [
    "arr_new_grades"
   ]
  },
  {
   "cell_type": "code",
   "execution_count": 17,
   "metadata": {},
   "outputs": [
    {
     "data": {
      "text/plain": [
       "92.71655323715235"
      ]
     },
     "execution_count": 17,
     "metadata": {},
     "output_type": "execute_result"
    }
   ],
   "source": [
    "arr_new_grades.mean()"
   ]
  },
  {
   "cell_type": "code",
   "execution_count": 18,
   "metadata": {},
   "outputs": [
    {
     "data": {
      "text/plain": [
       "6.33540471768489"
      ]
     },
     "execution_count": 18,
     "metadata": {},
     "output_type": "execute_result"
    }
   ],
   "source": [
    "arr_new_grades.std()"
   ]
  },
  {
   "cell_type": "markdown",
   "metadata": {},
   "source": [
    "## brocasting"
   ]
  },
  {
   "cell_type": "code",
   "execution_count": 20,
   "metadata": {},
   "outputs": [
    {
     "data": {
      "text/plain": [
       "array([ 8,  9, 10, 14, 17])"
      ]
     },
     "execution_count": 20,
     "metadata": {},
     "output_type": "execute_result"
    }
   ],
   "source": [
    "np.array([3,4,5,9,12])+5"
   ]
  },
  {
   "cell_type": "code",
   "execution_count": 22,
   "metadata": {},
   "outputs": [],
   "source": [
    "mygrades = np.array([89,99,60])"
   ]
  },
  {
   "cell_type": "code",
   "execution_count": 24,
   "metadata": {},
   "outputs": [],
   "source": [
    "weights= np.array([0.3,0.4,0.3])"
   ]
  },
  {
   "cell_type": "code",
   "execution_count": 25,
   "metadata": {},
   "outputs": [],
   "source": [
    "g= mygrades*weights"
   ]
  },
  {
   "cell_type": "code",
   "execution_count": 26,
   "metadata": {},
   "outputs": [
    {
     "data": {
      "text/plain": [
       "84.3"
      ]
     },
     "execution_count": 26,
     "metadata": {},
     "output_type": "execute_result"
    }
   ],
   "source": [
    "g.sum()"
   ]
  },
  {
   "cell_type": "code",
   "execution_count": 27,
   "metadata": {},
   "outputs": [
    {
     "data": {
      "text/plain": [
       "84.3"
      ]
     },
     "execution_count": 27,
     "metadata": {},
     "output_type": "execute_result"
    }
   ],
   "source": [
    "np.dot(mygrades, weights)"
   ]
  },
  {
   "cell_type": "code",
   "execution_count": 28,
   "metadata": {},
   "outputs": [
    {
     "data": {
      "text/plain": [
       "84.3"
      ]
     },
     "execution_count": 28,
     "metadata": {},
     "output_type": "execute_result"
    }
   ],
   "source": [
    "mygrades @ weights"
   ]
  },
  {
   "cell_type": "markdown",
   "metadata": {},
   "source": [
    "## 不同shape轉換"
   ]
  },
  {
   "cell_type": "code",
   "execution_count": 29,
   "metadata": {},
   "outputs": [],
   "source": [
    "egg = 94.87"
   ]
  },
  {
   "cell_type": "markdown",
   "metadata": {},
   "source": [
    "## 1階array"
   ]
  },
  {
   "cell_type": "code",
   "execution_count": 30,
   "metadata": {},
   "outputs": [],
   "source": [
    "egg = np.array([9,4,8,7])"
   ]
  },
  {
   "cell_type": "markdown",
   "metadata": {},
   "source": [
    "## 2階array"
   ]
  },
  {
   "cell_type": "code",
   "execution_count": 31,
   "metadata": {},
   "outputs": [],
   "source": [
    "A=np.array([[1,2,3],[4,5,6]])"
   ]
  },
  {
   "cell_type": "code",
   "execution_count": 32,
   "metadata": {},
   "outputs": [
    {
     "data": {
      "text/plain": [
       "array([[1, 2, 3],\n",
       "       [4, 5, 6]])"
      ]
     },
     "execution_count": 32,
     "metadata": {},
     "output_type": "execute_result"
    }
   ],
   "source": [
    "A"
   ]
  },
  {
   "cell_type": "code",
   "execution_count": 33,
   "metadata": {},
   "outputs": [],
   "source": [
    "B=np.array([3,9,6,12,8,20,1,10,7])"
   ]
  },
  {
   "cell_type": "code",
   "execution_count": 34,
   "metadata": {},
   "outputs": [
    {
     "data": {
      "text/plain": [
       "(2, 3)"
      ]
     },
     "execution_count": 34,
     "metadata": {},
     "output_type": "execute_result"
    }
   ],
   "source": [
    "A.shape"
   ]
  },
  {
   "cell_type": "code",
   "execution_count": 35,
   "metadata": {},
   "outputs": [
    {
     "data": {
      "text/plain": [
       "(9,)"
      ]
     },
     "execution_count": 35,
     "metadata": {},
     "output_type": "execute_result"
    }
   ],
   "source": [
    "B.shape"
   ]
  },
  {
   "cell_type": "code",
   "execution_count": 36,
   "metadata": {},
   "outputs": [
    {
     "data": {
      "text/plain": [
       "array([[ 3,  9,  6],\n",
       "       [12,  8, 20],\n",
       "       [ 1, 10,  7]])"
      ]
     },
     "execution_count": 36,
     "metadata": {},
     "output_type": "execute_result"
    }
   ],
   "source": [
    "B.reshape(3,3)"
   ]
  },
  {
   "cell_type": "code",
   "execution_count": 42,
   "metadata": {},
   "outputs": [
    {
     "data": {
      "text/plain": [
       "array([[ 3,  9,  6],\n",
       "       [12,  8, 20],\n",
       "       [ 1, 10,  7]])"
      ]
     },
     "execution_count": 42,
     "metadata": {},
     "output_type": "execute_result"
    }
   ],
   "source": [
    "B"
   ]
  },
  {
   "cell_type": "code",
   "execution_count": 40,
   "metadata": {},
   "outputs": [],
   "source": [
    "B=B.reshape(3,3)"
   ]
  },
  {
   "cell_type": "code",
   "execution_count": 41,
   "metadata": {},
   "outputs": [
    {
     "data": {
      "text/plain": [
       "array([[ 30,  55,  67],\n",
       "       [ 78, 136, 166]])"
      ]
     },
     "execution_count": 41,
     "metadata": {},
     "output_type": "execute_result"
    }
   ],
   "source": [
    "A@B"
   ]
  },
  {
   "cell_type": "code",
   "execution_count": 43,
   "metadata": {},
   "outputs": [],
   "source": [
    "C=A@B"
   ]
  },
  {
   "cell_type": "code",
   "execution_count": 44,
   "metadata": {},
   "outputs": [
    {
     "data": {
      "text/plain": [
       "array([[ 30,  55,  67],\n",
       "       [ 78, 136, 166]])"
      ]
     },
     "execution_count": 44,
     "metadata": {},
     "output_type": "execute_result"
    }
   ],
   "source": [
    "C"
   ]
  },
  {
   "cell_type": "code",
   "execution_count": 45,
   "metadata": {},
   "outputs": [
    {
     "data": {
      "text/plain": [
       "array([ 78, 136, 166])"
      ]
     },
     "execution_count": 45,
     "metadata": {},
     "output_type": "execute_result"
    }
   ],
   "source": [
    "C[1]"
   ]
  },
  {
   "cell_type": "code",
   "execution_count": 46,
   "metadata": {},
   "outputs": [
    {
     "data": {
      "text/plain": [
       "136"
      ]
     },
     "execution_count": 46,
     "metadata": {},
     "output_type": "execute_result"
    }
   ],
   "source": [
    "C[1,1]"
   ]
  },
  {
   "cell_type": "code",
   "execution_count": 47,
   "metadata": {},
   "outputs": [
    {
     "data": {
      "text/plain": [
       "array([ 67, 166])"
      ]
     },
     "execution_count": 47,
     "metadata": {},
     "output_type": "execute_result"
    }
   ],
   "source": [
    "C[:,2]"
   ]
  },
  {
   "cell_type": "code",
   "execution_count": 48,
   "metadata": {},
   "outputs": [
    {
     "data": {
      "text/plain": [
       "array([[1, 2, 3],\n",
       "       [4, 5, 6]])"
      ]
     },
     "execution_count": 48,
     "metadata": {},
     "output_type": "execute_result"
    }
   ],
   "source": [
    "A"
   ]
  },
  {
   "cell_type": "code",
   "execution_count": 49,
   "metadata": {},
   "outputs": [
    {
     "data": {
      "text/plain": [
       "array([1, 2, 3, 4, 5, 6])"
      ]
     },
     "execution_count": 49,
     "metadata": {},
     "output_type": "execute_result"
    }
   ],
   "source": [
    "A.ravel()"
   ]
  },
  {
   "cell_type": "code",
   "execution_count": 50,
   "metadata": {},
   "outputs": [
    {
     "data": {
      "text/plain": [
       "array([[1, 2, 3],\n",
       "       [4, 5, 6]])"
      ]
     },
     "execution_count": 50,
     "metadata": {},
     "output_type": "execute_result"
    }
   ],
   "source": [
    "A"
   ]
  },
  {
   "cell_type": "code",
   "execution_count": 51,
   "metadata": {},
   "outputs": [],
   "source": [
    "X=np.array([3,9,1,3,-5,1,2])"
   ]
  },
  {
   "cell_type": "markdown",
   "metadata": {},
   "source": [
    "## 要變成這樣\n",
    "[[3],[9],....]"
   ]
  },
  {
   "cell_type": "code",
   "execution_count": 54,
   "metadata": {},
   "outputs": [
    {
     "data": {
      "text/plain": [
       "array([[ 3],\n",
       "       [ 9],\n",
       "       [ 1],\n",
       "       [ 3],\n",
       "       [-5],\n",
       "       [ 1],\n",
       "       [ 2]])"
      ]
     },
     "execution_count": 54,
     "metadata": {},
     "output_type": "execute_result"
    }
   ],
   "source": [
    "X.reshape(7,1)"
   ]
  },
  {
   "cell_type": "code",
   "execution_count": 55,
   "metadata": {},
   "outputs": [
    {
     "data": {
      "text/plain": [
       "7"
      ]
     },
     "execution_count": 55,
     "metadata": {},
     "output_type": "execute_result"
    }
   ],
   "source": [
    "len(X)"
   ]
  },
  {
   "cell_type": "code",
   "execution_count": 56,
   "metadata": {},
   "outputs": [
    {
     "data": {
      "text/plain": [
       "array([[ 3],\n",
       "       [ 9],\n",
       "       [ 1],\n",
       "       [ 3],\n",
       "       [-5],\n",
       "       [ 1],\n",
       "       [ 2]])"
      ]
     },
     "execution_count": 56,
     "metadata": {},
     "output_type": "execute_result"
    }
   ],
   "source": [
    "X.reshape(len(X),1)"
   ]
  },
  {
   "cell_type": "markdown",
   "metadata": {},
   "source": [
    "## array的filter 功能"
   ]
  },
  {
   "cell_type": "code",
   "execution_count": 76,
   "metadata": {},
   "outputs": [],
   "source": [
    "grades=np.array([59,30,25,65,60,100,85,8])"
   ]
  },
  {
   "cell_type": "code",
   "execution_count": 77,
   "metadata": {},
   "outputs": [],
   "source": [
    "passed=np.array([False,False,False,True,True,True,True,False])"
   ]
  },
  {
   "cell_type": "code",
   "execution_count": 78,
   "metadata": {},
   "outputs": [
    {
     "data": {
      "text/plain": [
       "array([ 65,  60, 100,  85])"
      ]
     },
     "execution_count": 78,
     "metadata": {},
     "output_type": "execute_result"
    }
   ],
   "source": [
    "grades[passed]"
   ]
  },
  {
   "cell_type": "code",
   "execution_count": 79,
   "metadata": {},
   "outputs": [],
   "source": [
    "passed=(grades >=60)"
   ]
  },
  {
   "cell_type": "code",
   "execution_count": 80,
   "metadata": {},
   "outputs": [
    {
     "data": {
      "text/plain": [
       "array([False, False, False,  True,  True,  True,  True, False])"
      ]
     },
     "execution_count": 80,
     "metadata": {},
     "output_type": "execute_result"
    }
   ],
   "source": [
    "passed"
   ]
  },
  {
   "cell_type": "code",
   "execution_count": 81,
   "metadata": {},
   "outputs": [
    {
     "data": {
      "text/plain": [
       "array([ 65,  60, 100,  85])"
      ]
     },
     "execution_count": 81,
     "metadata": {},
     "output_type": "execute_result"
    }
   ],
   "source": [
    "grades[passed]"
   ]
  },
  {
   "cell_type": "code",
   "execution_count": 86,
   "metadata": {},
   "outputs": [
    {
     "ename": "TypeError",
     "evalue": "'>=' not supported between instances of 'list' and 'int'",
     "output_type": "error",
     "traceback": [
      "\u001b[1;31m---------------------------------------------------------------------------\u001b[0m",
      "\u001b[1;31mTypeError\u001b[0m                                 Traceback (most recent call last)",
      "\u001b[1;32m<ipython-input-86-29d9d7eaf609>\u001b[0m in \u001b[0;36m<module>\u001b[1;34m\u001b[0m\n\u001b[1;32m----> 1\u001b[1;33m \u001b[0mpassed\u001b[0m\u001b[1;33m=\u001b[0m\u001b[0mgrades\u001b[0m\u001b[1;33m[\u001b[0m\u001b[0mgrades\u001b[0m \u001b[1;33m>=\u001b[0m\u001b[1;36m60\u001b[0m\u001b[1;33m]\u001b[0m\u001b[1;33m\u001b[0m\u001b[1;33m\u001b[0m\u001b[0m\n\u001b[0m",
      "\u001b[1;31mTypeError\u001b[0m: '>=' not supported between instances of 'list' and 'int'"
     ]
    }
   ],
   "source": [
    "passed=grades[grades >=60]"
   ]
  },
  {
   "cell_type": "code",
   "execution_count": 87,
   "metadata": {},
   "outputs": [
    {
     "ename": "TypeError",
     "evalue": "'>=' not supported between instances of 'list' and 'int'",
     "output_type": "error",
     "traceback": [
      "\u001b[1;31m---------------------------------------------------------------------------\u001b[0m",
      "\u001b[1;31mTypeError\u001b[0m                                 Traceback (most recent call last)",
      "\u001b[1;32m<ipython-input-87-bd723cfca5f7>\u001b[0m in \u001b[0;36m<module>\u001b[1;34m\u001b[0m\n\u001b[1;32m----> 1\u001b[1;33m \u001b[1;33m(\u001b[0m\u001b[0mgrades\u001b[0m \u001b[1;33m>=\u001b[0m\u001b[1;36m60\u001b[0m\u001b[1;33m)\u001b[0m\u001b[1;33m&\u001b[0m\u001b[1;33m(\u001b[0m\u001b[0mgrades\u001b[0m\u001b[1;33m<\u001b[0m\u001b[1;36m80\u001b[0m\u001b[1;33m)\u001b[0m\u001b[1;33m\u001b[0m\u001b[1;33m\u001b[0m\u001b[0m\n\u001b[0m",
      "\u001b[1;31mTypeError\u001b[0m: '>=' not supported between instances of 'list' and 'int'"
     ]
    }
   ],
   "source": [
    "(grades >=60)&(grades<80)"
   ]
  },
  {
   "cell_type": "markdown",
   "metadata": {},
   "source": [
    "## 畫圖"
   ]
  },
  {
   "cell_type": "code",
   "execution_count": 88,
   "metadata": {},
   "outputs": [],
   "source": [
    "π=np.pi"
   ]
  },
  {
   "cell_type": "code",
   "execution_count": 89,
   "metadata": {},
   "outputs": [],
   "source": [
    "x=np.linspace(-2*π,2*π,1000)"
   ]
  },
  {
   "cell_type": "code",
   "execution_count": 90,
   "metadata": {},
   "outputs": [
    {
     "data": {
      "text/plain": [
       "array([-6.28318531, -6.27060636, -6.25802741, -6.24544846, -6.23286951,\n",
       "       -6.22029056, -6.20771161, -6.19513266, -6.18255371, -6.16997476,\n",
       "       -6.15739581, -6.14481686, -6.13223791, -6.11965896, -6.10708001,\n",
       "       -6.09450106, -6.08192211, -6.06934316, -6.05676422, -6.04418527,\n",
       "       -6.03160632, -6.01902737, -6.00644842, -5.99386947, -5.98129052,\n",
       "       -5.96871157, -5.95613262, -5.94355367, -5.93097472, -5.91839577,\n",
       "       -5.90581682, -5.89323787, -5.88065892, -5.86807997, -5.85550102,\n",
       "       -5.84292207, -5.83034312, -5.81776417, -5.80518522, -5.79260627,\n",
       "       -5.78002732, -5.76744838, -5.75486943, -5.74229048, -5.72971153,\n",
       "       -5.71713258, -5.70455363, -5.69197468, -5.67939573, -5.66681678,\n",
       "       -5.65423783, -5.64165888, -5.62907993, -5.61650098, -5.60392203,\n",
       "       -5.59134308, -5.57876413, -5.56618518, -5.55360623, -5.54102728,\n",
       "       -5.52844833, -5.51586938, -5.50329043, -5.49071148, -5.47813254,\n",
       "       -5.46555359, -5.45297464, -5.44039569, -5.42781674, -5.41523779,\n",
       "       -5.40265884, -5.39007989, -5.37750094, -5.36492199, -5.35234304,\n",
       "       -5.33976409, -5.32718514, -5.31460619, -5.30202724, -5.28944829,\n",
       "       -5.27686934, -5.26429039, -5.25171144, -5.23913249, -5.22655354,\n",
       "       -5.21397459, -5.20139564, -5.1888167 , -5.17623775, -5.1636588 ,\n",
       "       -5.15107985, -5.1385009 , -5.12592195, -5.113343  , -5.10076405,\n",
       "       -5.0881851 , -5.07560615, -5.0630272 , -5.05044825, -5.0378693 ,\n",
       "       -5.02529035, -5.0127114 , -5.00013245, -4.9875535 , -4.97497455,\n",
       "       -4.9623956 , -4.94981665, -4.9372377 , -4.92465875, -4.9120798 ,\n",
       "       -4.89950086, -4.88692191, -4.87434296, -4.86176401, -4.84918506,\n",
       "       -4.83660611, -4.82402716, -4.81144821, -4.79886926, -4.78629031,\n",
       "       -4.77371136, -4.76113241, -4.74855346, -4.73597451, -4.72339556,\n",
       "       -4.71081661, -4.69823766, -4.68565871, -4.67307976, -4.66050081,\n",
       "       -4.64792186, -4.63534291, -4.62276396, -4.61018502, -4.59760607,\n",
       "       -4.58502712, -4.57244817, -4.55986922, -4.54729027, -4.53471132,\n",
       "       -4.52213237, -4.50955342, -4.49697447, -4.48439552, -4.47181657,\n",
       "       -4.45923762, -4.44665867, -4.43407972, -4.42150077, -4.40892182,\n",
       "       -4.39634287, -4.38376392, -4.37118497, -4.35860602, -4.34602707,\n",
       "       -4.33344812, -4.32086918, -4.30829023, -4.29571128, -4.28313233,\n",
       "       -4.27055338, -4.25797443, -4.24539548, -4.23281653, -4.22023758,\n",
       "       -4.20765863, -4.19507968, -4.18250073, -4.16992178, -4.15734283,\n",
       "       -4.14476388, -4.13218493, -4.11960598, -4.10702703, -4.09444808,\n",
       "       -4.08186913, -4.06929018, -4.05671123, -4.04413228, -4.03155334,\n",
       "       -4.01897439, -4.00639544, -3.99381649, -3.98123754, -3.96865859,\n",
       "       -3.95607964, -3.94350069, -3.93092174, -3.91834279, -3.90576384,\n",
       "       -3.89318489, -3.88060594, -3.86802699, -3.85544804, -3.84286909,\n",
       "       -3.83029014, -3.81771119, -3.80513224, -3.79255329, -3.77997434,\n",
       "       -3.76739539, -3.75481644, -3.7422375 , -3.72965855, -3.7170796 ,\n",
       "       -3.70450065, -3.6919217 , -3.67934275, -3.6667638 , -3.65418485,\n",
       "       -3.6416059 , -3.62902695, -3.616448  , -3.60386905, -3.5912901 ,\n",
       "       -3.57871115, -3.5661322 , -3.55355325, -3.5409743 , -3.52839535,\n",
       "       -3.5158164 , -3.50323745, -3.4906585 , -3.47807955, -3.4655006 ,\n",
       "       -3.45292166, -3.44034271, -3.42776376, -3.41518481, -3.40260586,\n",
       "       -3.39002691, -3.37744796, -3.36486901, -3.35229006, -3.33971111,\n",
       "       -3.32713216, -3.31455321, -3.30197426, -3.28939531, -3.27681636,\n",
       "       -3.26423741, -3.25165846, -3.23907951, -3.22650056, -3.21392161,\n",
       "       -3.20134266, -3.18876371, -3.17618476, -3.16360582, -3.15102687,\n",
       "       -3.13844792, -3.12586897, -3.11329002, -3.10071107, -3.08813212,\n",
       "       -3.07555317, -3.06297422, -3.05039527, -3.03781632, -3.02523737,\n",
       "       -3.01265842, -3.00007947, -2.98750052, -2.97492157, -2.96234262,\n",
       "       -2.94976367, -2.93718472, -2.92460577, -2.91202682, -2.89944787,\n",
       "       -2.88686892, -2.87428998, -2.86171103, -2.84913208, -2.83655313,\n",
       "       -2.82397418, -2.81139523, -2.79881628, -2.78623733, -2.77365838,\n",
       "       -2.76107943, -2.74850048, -2.73592153, -2.72334258, -2.71076363,\n",
       "       -2.69818468, -2.68560573, -2.67302678, -2.66044783, -2.64786888,\n",
       "       -2.63528993, -2.62271098, -2.61013203, -2.59755308, -2.58497414,\n",
       "       -2.57239519, -2.55981624, -2.54723729, -2.53465834, -2.52207939,\n",
       "       -2.50950044, -2.49692149, -2.48434254, -2.47176359, -2.45918464,\n",
       "       -2.44660569, -2.43402674, -2.42144779, -2.40886884, -2.39628989,\n",
       "       -2.38371094, -2.37113199, -2.35855304, -2.34597409, -2.33339514,\n",
       "       -2.32081619, -2.30823724, -2.2956583 , -2.28307935, -2.2705004 ,\n",
       "       -2.25792145, -2.2453425 , -2.23276355, -2.2201846 , -2.20760565,\n",
       "       -2.1950267 , -2.18244775, -2.1698688 , -2.15728985, -2.1447109 ,\n",
       "       -2.13213195, -2.119553  , -2.10697405, -2.0943951 , -2.08181615,\n",
       "       -2.0692372 , -2.05665825, -2.0440793 , -2.03150035, -2.01892141,\n",
       "       -2.00634246, -1.99376351, -1.98118456, -1.96860561, -1.95602666,\n",
       "       -1.94344771, -1.93086876, -1.91828981, -1.90571086, -1.89313191,\n",
       "       -1.88055296, -1.86797401, -1.85539506, -1.84281611, -1.83023716,\n",
       "       -1.81765821, -1.80507926, -1.79250031, -1.77992136, -1.76734241,\n",
       "       -1.75476346, -1.74218451, -1.72960557, -1.71702662, -1.70444767,\n",
       "       -1.69186872, -1.67928977, -1.66671082, -1.65413187, -1.64155292,\n",
       "       -1.62897397, -1.61639502, -1.60381607, -1.59123712, -1.57865817,\n",
       "       -1.56607922, -1.55350027, -1.54092132, -1.52834237, -1.51576342,\n",
       "       -1.50318447, -1.49060552, -1.47802657, -1.46544762, -1.45286867,\n",
       "       -1.44028973, -1.42771078, -1.41513183, -1.40255288, -1.38997393,\n",
       "       -1.37739498, -1.36481603, -1.35223708, -1.33965813, -1.32707918,\n",
       "       -1.31450023, -1.30192128, -1.28934233, -1.27676338, -1.26418443,\n",
       "       -1.25160548, -1.23902653, -1.22644758, -1.21386863, -1.20128968,\n",
       "       -1.18871073, -1.17613178, -1.16355283, -1.15097389, -1.13839494,\n",
       "       -1.12581599, -1.11323704, -1.10065809, -1.08807914, -1.07550019,\n",
       "       -1.06292124, -1.05034229, -1.03776334, -1.02518439, -1.01260544,\n",
       "       -1.00002649, -0.98744754, -0.97486859, -0.96228964, -0.94971069,\n",
       "       -0.93713174, -0.92455279, -0.91197384, -0.89939489, -0.88681594,\n",
       "       -0.87423699, -0.86165805, -0.8490791 , -0.83650015, -0.8239212 ,\n",
       "       -0.81134225, -0.7987633 , -0.78618435, -0.7736054 , -0.76102645,\n",
       "       -0.7484475 , -0.73586855, -0.7232896 , -0.71071065, -0.6981317 ,\n",
       "       -0.68555275, -0.6729738 , -0.66039485, -0.6478159 , -0.63523695,\n",
       "       -0.622658  , -0.61007905, -0.5975001 , -0.58492115, -0.57234221,\n",
       "       -0.55976326, -0.54718431, -0.53460536, -0.52202641, -0.50944746,\n",
       "       -0.49686851, -0.48428956, -0.47171061, -0.45913166, -0.44655271,\n",
       "       -0.43397376, -0.42139481, -0.40881586, -0.39623691, -0.38365796,\n",
       "       -0.37107901, -0.35850006, -0.34592111, -0.33334216, -0.32076321,\n",
       "       -0.30818426, -0.29560531, -0.28302637, -0.27044742, -0.25786847,\n",
       "       -0.24528952, -0.23271057, -0.22013162, -0.20755267, -0.19497372,\n",
       "       -0.18239477, -0.16981582, -0.15723687, -0.14465792, -0.13207897,\n",
       "       -0.11950002, -0.10692107, -0.09434212, -0.08176317, -0.06918422,\n",
       "       -0.05660527, -0.04402632, -0.03144737, -0.01886842, -0.00628947,\n",
       "        0.00628947,  0.01886842,  0.03144737,  0.04402632,  0.05660527,\n",
       "        0.06918422,  0.08176317,  0.09434212,  0.10692107,  0.11950002,\n",
       "        0.13207897,  0.14465792,  0.15723687,  0.16981582,  0.18239477,\n",
       "        0.19497372,  0.20755267,  0.22013162,  0.23271057,  0.24528952,\n",
       "        0.25786847,  0.27044742,  0.28302637,  0.29560531,  0.30818426,\n",
       "        0.32076321,  0.33334216,  0.34592111,  0.35850006,  0.37107901,\n",
       "        0.38365796,  0.39623691,  0.40881586,  0.42139481,  0.43397376,\n",
       "        0.44655271,  0.45913166,  0.47171061,  0.48428956,  0.49686851,\n",
       "        0.50944746,  0.52202641,  0.53460536,  0.54718431,  0.55976326,\n",
       "        0.57234221,  0.58492115,  0.5975001 ,  0.61007905,  0.622658  ,\n",
       "        0.63523695,  0.6478159 ,  0.66039485,  0.6729738 ,  0.68555275,\n",
       "        0.6981317 ,  0.71071065,  0.7232896 ,  0.73586855,  0.7484475 ,\n",
       "        0.76102645,  0.7736054 ,  0.78618435,  0.7987633 ,  0.81134225,\n",
       "        0.8239212 ,  0.83650015,  0.8490791 ,  0.86165805,  0.87423699,\n",
       "        0.88681594,  0.89939489,  0.91197384,  0.92455279,  0.93713174,\n",
       "        0.94971069,  0.96228964,  0.97486859,  0.98744754,  1.00002649,\n",
       "        1.01260544,  1.02518439,  1.03776334,  1.05034229,  1.06292124,\n",
       "        1.07550019,  1.08807914,  1.10065809,  1.11323704,  1.12581599,\n",
       "        1.13839494,  1.15097389,  1.16355283,  1.17613178,  1.18871073,\n",
       "        1.20128968,  1.21386863,  1.22644758,  1.23902653,  1.25160548,\n",
       "        1.26418443,  1.27676338,  1.28934233,  1.30192128,  1.31450023,\n",
       "        1.32707918,  1.33965813,  1.35223708,  1.36481603,  1.37739498,\n",
       "        1.38997393,  1.40255288,  1.41513183,  1.42771078,  1.44028973,\n",
       "        1.45286867,  1.46544762,  1.47802657,  1.49060552,  1.50318447,\n",
       "        1.51576342,  1.52834237,  1.54092132,  1.55350027,  1.56607922,\n",
       "        1.57865817,  1.59123712,  1.60381607,  1.61639502,  1.62897397,\n",
       "        1.64155292,  1.65413187,  1.66671082,  1.67928977,  1.69186872,\n",
       "        1.70444767,  1.71702662,  1.72960557,  1.74218451,  1.75476346,\n",
       "        1.76734241,  1.77992136,  1.79250031,  1.80507926,  1.81765821,\n",
       "        1.83023716,  1.84281611,  1.85539506,  1.86797401,  1.88055296,\n",
       "        1.89313191,  1.90571086,  1.91828981,  1.93086876,  1.94344771,\n",
       "        1.95602666,  1.96860561,  1.98118456,  1.99376351,  2.00634246,\n",
       "        2.01892141,  2.03150035,  2.0440793 ,  2.05665825,  2.0692372 ,\n",
       "        2.08181615,  2.0943951 ,  2.10697405,  2.119553  ,  2.13213195,\n",
       "        2.1447109 ,  2.15728985,  2.1698688 ,  2.18244775,  2.1950267 ,\n",
       "        2.20760565,  2.2201846 ,  2.23276355,  2.2453425 ,  2.25792145,\n",
       "        2.2705004 ,  2.28307935,  2.2956583 ,  2.30823724,  2.32081619,\n",
       "        2.33339514,  2.34597409,  2.35855304,  2.37113199,  2.38371094,\n",
       "        2.39628989,  2.40886884,  2.42144779,  2.43402674,  2.44660569,\n",
       "        2.45918464,  2.47176359,  2.48434254,  2.49692149,  2.50950044,\n",
       "        2.52207939,  2.53465834,  2.54723729,  2.55981624,  2.57239519,\n",
       "        2.58497414,  2.59755308,  2.61013203,  2.62271098,  2.63528993,\n",
       "        2.64786888,  2.66044783,  2.67302678,  2.68560573,  2.69818468,\n",
       "        2.71076363,  2.72334258,  2.73592153,  2.74850048,  2.76107943,\n",
       "        2.77365838,  2.78623733,  2.79881628,  2.81139523,  2.82397418,\n",
       "        2.83655313,  2.84913208,  2.86171103,  2.87428998,  2.88686892,\n",
       "        2.89944787,  2.91202682,  2.92460577,  2.93718472,  2.94976367,\n",
       "        2.96234262,  2.97492157,  2.98750052,  3.00007947,  3.01265842,\n",
       "        3.02523737,  3.03781632,  3.05039527,  3.06297422,  3.07555317,\n",
       "        3.08813212,  3.10071107,  3.11329002,  3.12586897,  3.13844792,\n",
       "        3.15102687,  3.16360582,  3.17618476,  3.18876371,  3.20134266,\n",
       "        3.21392161,  3.22650056,  3.23907951,  3.25165846,  3.26423741,\n",
       "        3.27681636,  3.28939531,  3.30197426,  3.31455321,  3.32713216,\n",
       "        3.33971111,  3.35229006,  3.36486901,  3.37744796,  3.39002691,\n",
       "        3.40260586,  3.41518481,  3.42776376,  3.44034271,  3.45292166,\n",
       "        3.4655006 ,  3.47807955,  3.4906585 ,  3.50323745,  3.5158164 ,\n",
       "        3.52839535,  3.5409743 ,  3.55355325,  3.5661322 ,  3.57871115,\n",
       "        3.5912901 ,  3.60386905,  3.616448  ,  3.62902695,  3.6416059 ,\n",
       "        3.65418485,  3.6667638 ,  3.67934275,  3.6919217 ,  3.70450065,\n",
       "        3.7170796 ,  3.72965855,  3.7422375 ,  3.75481644,  3.76739539,\n",
       "        3.77997434,  3.79255329,  3.80513224,  3.81771119,  3.83029014,\n",
       "        3.84286909,  3.85544804,  3.86802699,  3.88060594,  3.89318489,\n",
       "        3.90576384,  3.91834279,  3.93092174,  3.94350069,  3.95607964,\n",
       "        3.96865859,  3.98123754,  3.99381649,  4.00639544,  4.01897439,\n",
       "        4.03155334,  4.04413228,  4.05671123,  4.06929018,  4.08186913,\n",
       "        4.09444808,  4.10702703,  4.11960598,  4.13218493,  4.14476388,\n",
       "        4.15734283,  4.16992178,  4.18250073,  4.19507968,  4.20765863,\n",
       "        4.22023758,  4.23281653,  4.24539548,  4.25797443,  4.27055338,\n",
       "        4.28313233,  4.29571128,  4.30829023,  4.32086918,  4.33344812,\n",
       "        4.34602707,  4.35860602,  4.37118497,  4.38376392,  4.39634287,\n",
       "        4.40892182,  4.42150077,  4.43407972,  4.44665867,  4.45923762,\n",
       "        4.47181657,  4.48439552,  4.49697447,  4.50955342,  4.52213237,\n",
       "        4.53471132,  4.54729027,  4.55986922,  4.57244817,  4.58502712,\n",
       "        4.59760607,  4.61018502,  4.62276396,  4.63534291,  4.64792186,\n",
       "        4.66050081,  4.67307976,  4.68565871,  4.69823766,  4.71081661,\n",
       "        4.72339556,  4.73597451,  4.74855346,  4.76113241,  4.77371136,\n",
       "        4.78629031,  4.79886926,  4.81144821,  4.82402716,  4.83660611,\n",
       "        4.84918506,  4.86176401,  4.87434296,  4.88692191,  4.89950086,\n",
       "        4.9120798 ,  4.92465875,  4.9372377 ,  4.94981665,  4.9623956 ,\n",
       "        4.97497455,  4.9875535 ,  5.00013245,  5.0127114 ,  5.02529035,\n",
       "        5.0378693 ,  5.05044825,  5.0630272 ,  5.07560615,  5.0881851 ,\n",
       "        5.10076405,  5.113343  ,  5.12592195,  5.1385009 ,  5.15107985,\n",
       "        5.1636588 ,  5.17623775,  5.1888167 ,  5.20139564,  5.21397459,\n",
       "        5.22655354,  5.23913249,  5.25171144,  5.26429039,  5.27686934,\n",
       "        5.28944829,  5.30202724,  5.31460619,  5.32718514,  5.33976409,\n",
       "        5.35234304,  5.36492199,  5.37750094,  5.39007989,  5.40265884,\n",
       "        5.41523779,  5.42781674,  5.44039569,  5.45297464,  5.46555359,\n",
       "        5.47813254,  5.49071148,  5.50329043,  5.51586938,  5.52844833,\n",
       "        5.54102728,  5.55360623,  5.56618518,  5.57876413,  5.59134308,\n",
       "        5.60392203,  5.61650098,  5.62907993,  5.64165888,  5.65423783,\n",
       "        5.66681678,  5.67939573,  5.69197468,  5.70455363,  5.71713258,\n",
       "        5.72971153,  5.74229048,  5.75486943,  5.76744838,  5.78002732,\n",
       "        5.79260627,  5.80518522,  5.81776417,  5.83034312,  5.84292207,\n",
       "        5.85550102,  5.86807997,  5.88065892,  5.89323787,  5.90581682,\n",
       "        5.91839577,  5.93097472,  5.94355367,  5.95613262,  5.96871157,\n",
       "        5.98129052,  5.99386947,  6.00644842,  6.01902737,  6.03160632,\n",
       "        6.04418527,  6.05676422,  6.06934316,  6.08192211,  6.09450106,\n",
       "        6.10708001,  6.11965896,  6.13223791,  6.14481686,  6.15739581,\n",
       "        6.16997476,  6.18255371,  6.19513266,  6.20771161,  6.22029056,\n",
       "        6.23286951,  6.24544846,  6.25802741,  6.27060636,  6.28318531])"
      ]
     },
     "execution_count": 90,
     "metadata": {},
     "output_type": "execute_result"
    }
   ],
   "source": [
    "x"
   ]
  },
  {
   "cell_type": "code",
   "execution_count": 91,
   "metadata": {},
   "outputs": [],
   "source": [
    "y=np.sin(x)"
   ]
  },
  {
   "cell_type": "code",
   "execution_count": 92,
   "metadata": {},
   "outputs": [
    {
     "data": {
      "text/plain": [
       "True"
      ]
     },
     "execution_count": 92,
     "metadata": {},
     "output_type": "execute_result"
    }
   ],
   "source": [
    "len(x)==len(y)"
   ]
  },
  {
   "cell_type": "code",
   "execution_count": 93,
   "metadata": {},
   "outputs": [
    {
     "data": {
      "text/plain": [
       "[<matplotlib.lines.Line2D at 0x1ec53c783c8>]"
      ]
     },
     "execution_count": 93,
     "metadata": {},
     "output_type": "execute_result"
    },
    {
     "data": {
      "image/png": "[encoded data removed]",
      "text/plain": [
       "<Figure size 432x288 with 1 Axes>"
      ]
     },
     "metadata": {
      "needs_background": "light"
     },
     "output_type": "display_data"
    }
   ],
   "source": [
    "plt.plot(x,y)"
   ]
  },
  {
   "cell_type": "code",
   "execution_count": null,
   "metadata": {},
   "outputs": [],
   "source": []
  },
  {
   "cell_type": "code",
   "execution_count": 94,
   "metadata": {},
   "outputs": [
    {
     "data": {
      "text/plain": [
       "[<matplotlib.lines.Line2D at 0x1ec53f3f7f0>]"
      ]
     },
     "execution_count": 94,
     "metadata": {},
     "output_type": "execute_result"
    },
    {
     "data": {
      "image/png": "[encoded data removed]",
      "text/plain": [
       "<Figure size 432x288 with 1 Axes>"
      ]
     },
     "metadata": {
      "needs_background": "light"
     },
     "output_type": "display_data"
    }
   ],
   "source": [
    "plt.scatter(x[y>0],y[y>0], c='#FF265A')\n",
    "plt.plot(x,y)"
   ]
  },
  {
   "cell_type": "markdown",
   "metadata": {},
   "source": [
    "## 模擬數據集"
   ]
  },
  {
   "cell_type": "code",
   "execution_count": 96,
   "metadata": {},
   "outputs": [],
   "source": [
    "x=np.linspace(0,1,50)\n",
    "y=np.sin(x)"
   ]
  },
  {
   "cell_type": "code",
   "execution_count": 97,
   "metadata": {},
   "outputs": [
    {
     "data": {
      "text/plain": [
       "<matplotlib.collections.PathCollection at 0x1ec53ff92e8>"
      ]
     },
     "execution_count": 97,
     "metadata": {},
     "output_type": "execute_result"
    },
    {
     "data": {
      "image/png": "[encoded data removed]",
      "text/plain": [
       "<Figure size 432x288 with 1 Axes>"
      ]
     },
     "metadata": {
      "needs_background": "light"
     },
     "output_type": "display_data"
    }
   ],
   "source": [
    "plt.scatter(x,y)"
   ]
  },
  {
   "cell_type": "code",
   "execution_count": 100,
   "metadata": {},
   "outputs": [],
   "source": [
    "noise=0.1*np.random.randn(50)"
   ]
  },
  {
   "cell_type": "code",
   "execution_count": 101,
   "metadata": {},
   "outputs": [
    {
     "data": {
      "text/plain": [
       "<matplotlib.collections.PathCollection at 0x1ec540af5f8>"
      ]
     },
     "execution_count": 101,
     "metadata": {},
     "output_type": "execute_result"
    },
    {
     "data": {
      "image/png": "[encoded data removed]",
      "text/plain": [
       "<Figure size 432x288 with 1 Axes>"
      ]
     },
     "metadata": {
      "needs_background": "light"
     },
     "output_type": "display_data"
    }
   ],
   "source": [
    "plt.scatter(x,y+noise)"
   ]
  },
  {
   "cell_type": "markdown",
   "metadata": {},
   "source": [
    "## 分類模組"
   ]
  },
  {
   "cell_type": "code",
   "execution_count": 123,
   "metadata": {},
   "outputs": [],
   "source": [
    "P=np.random.randn(50,2)"
   ]
  },
  {
   "cell_type": "code",
   "execution_count": 124,
   "metadata": {},
   "outputs": [
    {
     "data": {
      "text/plain": [
       "<matplotlib.collections.PathCollection at 0x1ec541d5780>"
      ]
     },
     "execution_count": 124,
     "metadata": {},
     "output_type": "execute_result"
    },
    {
     "data": {
      "image/png": "[encoded data removed]",
      "text/plain": [
       "<Figure size 432x288 with 1 Axes>"
      ]
     },
     "metadata": {
      "needs_background": "light"
     },
     "output_type": "display_data"
    }
   ],
   "source": [
    "plt.scatter(P[:,0],P[:,1])"
   ]
  },
  {
   "cell_type": "code",
   "execution_count": 125,
   "metadata": {},
   "outputs": [],
   "source": [
    "cl=np.random.randint(1,5,50)"
   ]
  },
  {
   "cell_type": "code",
   "execution_count": 126,
   "metadata": {},
   "outputs": [
    {
     "data": {
      "text/plain": [
       "array([1, 3, 2, 3, 2, 3, 3, 4, 3, 2, 2, 2, 1, 2, 4, 2, 4, 4, 1, 3, 1, 3,\n",
       "       1, 4, 3, 3, 4, 1, 3, 1, 4, 2, 4, 4, 2, 2, 2, 2, 2, 4, 1, 3, 3, 2,\n",
       "       4, 2, 1, 4, 4, 4])"
      ]
     },
     "execution_count": 126,
     "metadata": {},
     "output_type": "execute_result"
    }
   ],
   "source": [
    "cl"
   ]
  },
  {
   "cell_type": "code",
   "execution_count": 128,
   "metadata": {},
   "outputs": [
    {
     "data": {
      "text/plain": [
       "<matplotlib.collections.PathCollection at 0x1ec5422f438>"
      ]
     },
     "execution_count": 128,
     "metadata": {},
     "output_type": "execute_result"
    },
    {
     "data": {
      "image/png": "[encoded data removed]",
      "text/plain": [
       "<Figure size 432x288 with 1 Axes>"
      ]
     },
     "metadata": {
      "needs_background": "light"
     },
     "output_type": "display_data"
    }
   ],
   "source": [
    "plt.scatter(P[:,0],P[:,1],c=cl,s=50,\n",
    "            alpha=0.6)"
   ]
  },
  {
   "cell_type": "markdown",
   "metadata": {},
   "source": [
    "## Sympy"
   ]
  },
  {
   "cell_type": "code",
   "execution_count": 122,
   "metadata": {},
   "outputs": [
    {
     "data": {
      "text/plain": [
       "0.8333333333333333"
      ]
     },
     "execution_count": 122,
     "metadata": {},
     "output_type": "execute_result"
    }
   ],
   "source": [
    "1/2+1/3"
   ]
  },
  {
   "cell_type": "code",
   "execution_count": 129,
   "metadata": {},
   "outputs": [],
   "source": [
    "import sympy as sp"
   ]
  },
  {
   "cell_type": "code",
   "execution_count": 130,
   "metadata": {},
   "outputs": [
    {
     "data": {
      "text/plain": [
       "0.8333333333333333"
      ]
     },
     "execution_count": 130,
     "metadata": {},
     "output_type": "execute_result"
    }
   ],
   "source": [
    "1/2+1/3"
   ]
  },
  {
   "cell_type": "code",
   "execution_count": 131,
   "metadata": {},
   "outputs": [
    {
     "data": {
      "text/latex": [
       "$\\displaystyle \\frac{5}{6}$"
      ],
      "text/plain": [
       "5/6"
      ]
     },
     "execution_count": 131,
     "metadata": {},
     "output_type": "execute_result"
    }
   ],
   "source": [
    "sp.Rational(1,2)+sp.Rational(1,3)"
   ]
  },
  {
   "cell_type": "code",
   "execution_count": 132,
   "metadata": {},
   "outputs": [],
   "source": [
    "sp.init_printing()"
   ]
  },
  {
   "cell_type": "code",
   "execution_count": 133,
   "metadata": {},
   "outputs": [
    {
     "data": {
      "image/png": "[encoded data removed]",
      "text/latex": [
       "$\\displaystyle 0.5$"
      ],
      "text/plain": [
       "0.5"
      ]
     },
     "execution_count": 133,
     "metadata": {},
     "output_type": "execute_result"
    }
   ],
   "source": [
    "1/2"
   ]
  },
  {
   "cell_type": "code",
   "execution_count": 134,
   "metadata": {},
   "outputs": [
    {
     "data": {
      "image/png": "[encoded data removed]",
      "text/latex": [
       "$\\displaystyle \\frac{5}{6}$"
      ],
      "text/plain": [
       "5/6"
      ]
     },
     "execution_count": 134,
     "metadata": {},
     "output_type": "execute_result"
    }
   ],
   "source": [
    "sp.sympify(1)/2+sp.sympify(1)/3"
   ]
  },
  {
   "cell_type": "code",
   "execution_count": 135,
   "metadata": {},
   "outputs": [
    {
     "data": {
      "image/png": "[encoded data removed]",
      "text/latex": [
       "$\\displaystyle \\frac{5}{6}$"
      ],
      "text/plain": [
       "5/6"
      ]
     },
     "execution_count": 135,
     "metadata": {},
     "output_type": "execute_result"
    }
   ],
   "source": [
    "sp.S(1)/2+sp.S(1)/3"
   ]
  },
  {
   "cell_type": "code",
   "execution_count": 136,
   "metadata": {},
   "outputs": [],
   "source": [
    "from sympy import S"
   ]
  },
  {
   "cell_type": "code",
   "execution_count": 137,
   "metadata": {},
   "outputs": [
    {
     "data": {
      "image/png": "[encoded data removed]",
      "text/latex": [
       "$\\displaystyle \\frac{5}{6}$"
      ],
      "text/plain": [
       "5/6"
      ]
     },
     "execution_count": 137,
     "metadata": {},
     "output_type": "execute_result"
    }
   ],
   "source": [
    "S(1)/2+S(1)/3"
   ]
  },
  {
   "cell_type": "code",
   "execution_count": 138,
   "metadata": {},
   "outputs": [
    {
     "data": {
      "image/png": "[encoded data removed]",
      "text/latex": [
       "$\\displaystyle \\sqrt{3}$"
      ],
      "text/plain": [
       "√3"
      ]
     },
     "execution_count": 138,
     "metadata": {},
     "output_type": "execute_result"
    }
   ],
   "source": [
    "sp.sqrt(3)"
   ]
  },
  {
   "cell_type": "code",
   "execution_count": 139,
   "metadata": {},
   "outputs": [
    {
     "data": {
      "image/png": "[encoded data removed]",
      "text/latex": [
       "$\\displaystyle \\pi$"
      ],
      "text/plain": [
       "π"
      ]
     },
     "execution_count": 139,
     "metadata": {},
     "output_type": "execute_result"
    }
   ],
   "source": [
    "sp.pi"
   ]
  },
  {
   "cell_type": "markdown",
   "metadata": {},
   "source": [
    "## 指定變數"
   ]
  },
  {
   "cell_type": "code",
   "execution_count": 157,
   "metadata": {},
   "outputs": [],
   "source": [
    "x=sp.symbols('x')\n",
    "x=sp.symbols(r'\\xi')\n"
   ]
  },
  {
   "cell_type": "code",
   "execution_count": 158,
   "metadata": {},
   "outputs": [
    {
     "data": {
      "image/png": "[encoded data removed]",
      "text/latex": [
       "$\\displaystyle \\xi$"
      ],
      "text/plain": [
       "\\xi"
      ]
     },
     "execution_count": 158,
     "metadata": {},
     "output_type": "execute_result"
    }
   ],
   "source": [
    "x"
   ]
  },
  {
   "cell_type": "code",
   "execution_count": 159,
   "metadata": {},
   "outputs": [
    {
     "data": {
      "image/png": "[encoded data removed]",
      "text/latex": [
       "$\\displaystyle \\xi^{2}$"
      ],
      "text/plain": [
       "   2\n",
       "\\xi "
      ]
     },
     "execution_count": 159,
     "metadata": {},
     "output_type": "execute_result"
    }
   ],
   "source": [
    "x**2"
   ]
  },
  {
   "cell_type": "code",
   "execution_count": 160,
   "metadata": {},
   "outputs": [],
   "source": [
    "from sympy.abc import x\n",
    "f=x**2-3*x+5"
   ]
  },
  {
   "cell_type": "code",
   "execution_count": null,
   "metadata": {},
   "outputs": [],
   "source": [
    "\n"
   ]
  },
  {
   "cell_type": "code",
   "execution_count": 161,
   "metadata": {},
   "outputs": [
    {
     "data": {
      "image/png": "[encoded data removed]",
      "text/latex": [
       "$\\displaystyle x^{2} - 3 x + 5$"
      ],
      "text/plain": [
       " 2          \n",
       "x  - 3⋅x + 5"
      ]
     },
     "execution_count": 161,
     "metadata": {},
     "output_type": "execute_result"
    }
   ],
   "source": [
    "f"
   ]
  },
  {
   "cell_type": "code",
   "execution_count": 162,
   "metadata": {},
   "outputs": [
    {
     "data": {
      "image/png": "[encoded data removed]",
      "text/latex": [
       "$\\displaystyle 3$"
      ],
      "text/plain": [
       "3"
      ]
     },
     "execution_count": 162,
     "metadata": {},
     "output_type": "execute_result"
    }
   ],
   "source": [
    "f.subs(x,2)"
   ]
  },
  {
   "cell_type": "code",
   "execution_count": 163,
   "metadata": {},
   "outputs": [],
   "source": [
    "from sympy.abc import y"
   ]
  },
  {
   "cell_type": "code",
   "execution_count": 164,
   "metadata": {},
   "outputs": [],
   "source": [
    "g= 3*x*y+2*x-5*y**2"
   ]
  },
  {
   "cell_type": "code",
   "execution_count": 165,
   "metadata": {},
   "outputs": [
    {
     "data": {
      "image/png": "[encoded data removed]",
      "text/latex": [
       "$\\displaystyle 3 x y + 2 x - 5 y^{2}$"
      ],
      "text/plain": [
       "                 2\n",
       "3⋅x⋅y + 2⋅x - 5⋅y "
      ]
     },
     "execution_count": 165,
     "metadata": {},
     "output_type": "execute_result"
    }
   ],
   "source": [
    "g"
   ]
  },
  {
   "cell_type": "code",
   "execution_count": 166,
   "metadata": {},
   "outputs": [
    {
     "data": {
      "image/png": "[encoded data removed]",
      "text/latex": [
       "$\\displaystyle 3 y + 2$"
      ],
      "text/plain": [
       "3⋅y + 2"
      ]
     },
     "execution_count": 166,
     "metadata": {},
     "output_type": "execute_result"
    }
   ],
   "source": [
    "sp.diff(g,x)"
   ]
  },
  {
   "cell_type": "code",
   "execution_count": 167,
   "metadata": {},
   "outputs": [
    {
     "data": {
      "image/png": "[encoded data removed]",
      "text/latex": [
       "$\\displaystyle x^{2} \\left(\\frac{3 y}{2} + 1\\right) - 5 x y^{2}$"
      ],
      "text/plain": [
       " 2 ⎛3⋅y    ⎞        2\n",
       "x ⋅⎜─── + 1⎟ - 5⋅x⋅y \n",
       "   ⎝ 2     ⎠         "
      ]
     },
     "execution_count": 167,
     "metadata": {},
     "output_type": "execute_result"
    }
   ],
   "source": [
    "sp.integrate(g,x)"
   ]
  },
  {
   "cell_type": "markdown",
   "metadata": {},
   "source": [
    "## 微分"
   ]
  },
  {
   "cell_type": "code",
   "execution_count": 168,
   "metadata": {},
   "outputs": [
    {
     "data": {
      "image/png": "[encoded data removed]",
      "text/latex": [
       "$\\displaystyle \\frac{1}{x}$"
      ],
      "text/plain": [
       "1\n",
       "─\n",
       "x"
      ]
     },
     "execution_count": 168,
     "metadata": {},
     "output_type": "execute_result"
    }
   ],
   "source": [
    "sp.diff(sp.log(x),x)"
   ]
  },
  {
   "cell_type": "code",
   "execution_count": 169,
   "metadata": {},
   "outputs": [
    {
     "data": {
      "image/png": "[encoded data removed]",
      "text/latex": [
       "$\\displaystyle - \\sin{\\left(x \\right)}$"
      ],
      "text/plain": [
       "-sin(x)"
      ]
     },
     "execution_count": 169,
     "metadata": {},
     "output_type": "execute_result"
    }
   ],
   "source": [
    "sp.diff(sp.cos(x))"
   ]
  },
  {
   "cell_type": "markdown",
   "metadata": {},
   "source": [
    "## 積分"
   ]
  },
  {
   "cell_type": "code",
   "execution_count": 170,
   "metadata": {},
   "outputs": [
    {
     "data": {
      "image/png": "[encoded data removed]",
      "text/latex": [
       "$\\displaystyle x \\log{\\left(x \\right)} - x$"
      ],
      "text/plain": [
       "x⋅log(x) - x"
      ]
     },
     "execution_count": 170,
     "metadata": {},
     "output_type": "execute_result"
    }
   ],
   "source": [
    "sp.integrate(sp.log(x))"
   ]
  },
  {
   "cell_type": "code",
   "execution_count": 171,
   "metadata": {},
   "outputs": [
    {
     "data": {
      "image/png": "[encoded data removed]",
      "text/latex": [
       "$\\displaystyle -4 + 5 \\log{\\left(5 \\right)}$"
      ],
      "text/plain": [
       "-4 + 5⋅log(5)"
      ]
     },
     "execution_count": 171,
     "metadata": {},
     "output_type": "execute_result"
    }
   ],
   "source": [
    "sp.integrate(sp.log(x),(x,1,5))"
   ]
  },
  {
   "cell_type": "markdown",
   "metadata": {},
   "source": [
    "## 極限"
   ]
  },
  {
   "cell_type": "code",
   "execution_count": 172,
   "metadata": {},
   "outputs": [
    {
     "data": {
      "image/png": "[encoded data removed]",
      "text/latex": [
       "$\\displaystyle 1$"
      ],
      "text/plain": [
       "1"
      ]
     },
     "execution_count": 172,
     "metadata": {},
     "output_type": "execute_result"
    }
   ],
   "source": [
    "sp.limit(sp.sin(x)/x,x,0)"
   ]
  },
  {
   "cell_type": "markdown",
   "metadata": {},
   "source": [
    "### 矩陣"
   ]
  },
  {
   "cell_type": "code",
   "execution_count": 175,
   "metadata": {},
   "outputs": [],
   "source": [
    "A=sp.Matrix([[1,2,3],[4,5,7],[7,8,9]])"
   ]
  },
  {
   "cell_type": "code",
   "execution_count": 176,
   "metadata": {},
   "outputs": [
    {
     "data": {
      "text/latex": [
       "$\\displaystyle \\left[\\begin{matrix}1 & 2 & 3\\\\4 & 5 & 7\\\\7 & 8 & 9\\end{matrix}\\right]$"
      ],
      "text/plain": [
       "⎡1  2  3⎤\n",
       "⎢       ⎥\n",
       "⎢4  5  7⎥\n",
       "⎢       ⎥\n",
       "⎣7  8  9⎦"
      ]
     },
     "execution_count": 176,
     "metadata": {},
     "output_type": "execute_result"
    }
   ],
   "source": [
    "A"
   ]
  },
  {
   "cell_type": "code",
   "execution_count": 177,
   "metadata": {},
   "outputs": [
    {
     "data": {
      "text/latex": [
       "$\\displaystyle \\left( \\left[\\begin{matrix}1 & 0 & 0\\\\0 & 1 & 0\\\\0 & 0 & 1\\end{matrix}\\right], \\  \\left( 0, \\  1, \\  2\\right)\\right)$"
      ],
      "text/plain": [
       "⎛⎡1  0  0⎤           ⎞\n",
       "⎜⎢       ⎥           ⎟\n",
       "⎜⎢0  1  0⎥, (0, 1, 2)⎟\n",
       "⎜⎢       ⎥           ⎟\n",
       "⎝⎣0  0  1⎦           ⎠"
      ]
     },
     "execution_count": 177,
     "metadata": {},
     "output_type": "execute_result"
    }
   ],
   "source": [
    "A.rref()"
   ]
  },
  {
   "cell_type": "code",
   "execution_count": 178,
   "metadata": {},
   "outputs": [
    {
     "data": {
      "image/png": "[encoded data removed]",
      "text/latex": [
       "$\\displaystyle 6$"
      ],
      "text/plain": [
       "6"
      ]
     },
     "execution_count": 178,
     "metadata": {},
     "output_type": "execute_result"
    }
   ],
   "source": [
    "A.det()"
   ]
  },
  {
   "cell_type": "code",
   "execution_count": 180,
   "metadata": {},
   "outputs": [
    {
     "data": {
      "text/latex": [
       "$\\displaystyle \\left[\\begin{matrix}- \\frac{11}{6} & 1 & - \\frac{1}{6}\\\\\\frac{13}{6} & -2 & \\frac{5}{6}\\\\- \\frac{1}{2} & 1 & - \\frac{1}{2}\\end{matrix}\\right]$"
      ],
      "text/plain": [
       "⎡-11/6  1   -1/6⎤\n",
       "⎢               ⎥\n",
       "⎢13/6   -2  5/6 ⎥\n",
       "⎢               ⎥\n",
       "⎣-1/2   1   -1/2⎦"
      ]
     },
     "execution_count": 180,
     "metadata": {},
     "output_type": "execute_result"
    }
   ],
   "source": [
    "A.inv()"
   ]
  },
  {
   "cell_type": "code",
   "execution_count": 181,
   "metadata": {},
   "outputs": [
    {
     "data": {
      "image/png": "[encoded data removed]",
      "text/latex": [
       "$\\displaystyle x^{2} - 3 x + 5$"
      ],
      "text/plain": [
       " 2          \n",
       "x  - 3⋅x + 5"
      ]
     },
     "execution_count": 181,
     "metadata": {},
     "output_type": "execute_result"
    }
   ],
   "source": [
    "f"
   ]
  },
  {
   "cell_type": "code",
   "execution_count": 182,
   "metadata": {},
   "outputs": [
    {
     "data": {
      "image/png": "[encoded data removed]",
      "text/plain": [
       "<Figure size 432x288 with 1 Axes>"
      ]
     },
     "metadata": {
      "needs_background": "light"
     },
     "output_type": "display_data"
    },
    {
     "data": {
      "text/plain": [
       "<sympy.plotting.plot.Plot at 0x1ec63a2bfd0>"
      ]
     },
     "execution_count": 182,
     "metadata": {},
     "output_type": "execute_result"
    }
   ],
   "source": [
    "sp.plot(f)"
   ]
  },
  {
   "cell_type": "code",
   "execution_count": 183,
   "metadata": {},
   "outputs": [],
   "source": [
    "g=-x**2"
   ]
  },
  {
   "cell_type": "code",
   "execution_count": 184,
   "metadata": {},
   "outputs": [
    {
     "data": {
      "image/png": "[encoded data removed]",
      "text/plain": [
       "<Figure size 432x288 with 1 Axes>"
      ]
     },
     "metadata": {
      "needs_background": "light"
     },
     "output_type": "display_data"
    },
    {
     "data": {
      "text/plain": [
       "<sympy.plotting.plot.Plot at 0x1ec59bea9e8>"
      ]
     },
     "execution_count": 184,
     "metadata": {},
     "output_type": "execute_result"
    }
   ],
   "source": [
    "sp.plot(f,g)"
   ]
  },
  {
   "cell_type": "code",
   "execution_count": 185,
   "metadata": {},
   "outputs": [],
   "source": [
    "a=7"
   ]
  },
  {
   "cell_type": "code",
   "execution_count": 186,
   "metadata": {},
   "outputs": [
    {
     "data": {
      "text/plain": [
       "True"
      ]
     },
     "execution_count": 186,
     "metadata": {},
     "output_type": "execute_result"
    }
   ],
   "source": [
    "sp.isprime(a)"
   ]
  },
  {
   "cell_type": "code",
   "execution_count": 187,
   "metadata": {},
   "outputs": [
    {
     "data": {
      "image/png": "[encoded data removed]",
      "text/latex": [
       "$\\displaystyle 98849$"
      ],
      "text/plain": [
       "98849"
      ]
     },
     "execution_count": 187,
     "metadata": {},
     "output_type": "execute_result"
    }
   ],
   "source": [
    "sp.prime(9487)"
   ]
  },
  {
   "cell_type": "code",
   "execution_count": 188,
   "metadata": {},
   "outputs": [
    {
     "data": {
      "text/plain": [
       "True"
      ]
     },
     "execution_count": 188,
     "metadata": {},
     "output_type": "execute_result"
    }
   ],
   "source": [
    "sp.isprime(98849)"
   ]
  },
  {
   "cell_type": "code",
   "execution_count": 189,
   "metadata": {},
   "outputs": [
    {
     "name": "stdout",
     "output_type": "stream",
     "text": [
      "(3, 5) 是孿生質數\n"
     ]
    }
   ],
   "source": [
    "a=sp.prime(2)\n",
    "b=sp.prime(2+1)\n",
    "\n",
    "if b-a ==2:\n",
    "    print((a,b),'是孿生質數')"
   ]
  },
  {
   "cell_type": "code",
   "execution_count": 202,
   "metadata": {},
   "outputs": [],
   "source": [
    "a=sp.prime(648899)\n",
    "b=sp.prime(648900)\n",
    "\n",
    "if b-a ==2:\n",
    "    print((a,b),'是孿生質數')"
   ]
  },
  {
   "cell_type": "code",
   "execution_count": 203,
   "metadata": {},
   "outputs": [
    {
     "data": {
      "image/png": "[encoded data removed]",
      "text/latex": [
       "$\\displaystyle \\pi$"
      ],
      "text/plain": [
       "π"
      ]
     },
     "execution_count": 203,
     "metadata": {},
     "output_type": "execute_result"
    }
   ],
   "source": [
    "sp.pi"
   ]
  },
  {
   "cell_type": "code",
   "execution_count": 204,
   "metadata": {},
   "outputs": [
    {
     "data": {
      "image/png": "[encoded data removed]",
      "text/latex": [
       "$\\displaystyle 3.141592653589793238462643383279502884197169399375105820974944592307816406286208998628034825342117067982148086513282306647093844609550582231725359408128481117450284102701938521105559644622948954930381964428810975665933446128475648233786783165271201909145648566923460348610454326648213393607260249141273724587006606315588174881520920962829254091715364367892590360011330530548820466521384146951941511609433057270365759591953092186117381932611793105118548074462379962749567351885752724891227938183011949129833673362440656643086021394946395224737190702179860943702770539217176293176752384674818467669405132000568127145263560827785771342757789609173637178721468440901224953430146549585371050792279689258923542019956112129021960864034418159813629774771309960518707211349999998372978049951059731732816096318595024459455346908302642522308253344685035261931188171010003137838752886587533208381420617177669147303598253490428755468731159562863882353787593751957781857780532171226806613001927876611195909216420198938095257201065485863278865936153381827968230301952035301852968995773622599413891249721775283479131515574857242454150695950829533116861727855889075098381754637464939319255060400927701671139009848824012858361603563707660104710181942955596198946767837449448255379774726847104047534646208046684259069491293313677028989152104752162056966024058038150193511253382430035587640247496473263914199272604269922796782354781636009341721641219924586315030286182974555706749838505494588586926995690927210797509302955321165344987202755960236480665499119881834797753566369807426542527862551818417574672890977772793800081647060016145249192173217214772350141441973568548161361157352552133475741849468438523323907394143334547762416862518983569485562099219222184272550254256887671790494601653466804988627232791786085784383827967976681454100953883786360950680064225125205117392984896084128488626945604241965285022210661186306744278622039194945047123713786960956364371917287467764657573962413890865832645995813390478027590099465764078951269468398352595709825822620522489407726719478268482601476990902640136394437455305068203496252451749399651431429809190659250937221696461515709858387410597885959772975498930161753928468138268683868942774155991855925245953959431049972524680845987273644695848653836736222626099124608051243884390451244136549762780797715691435997700129616089441694868555848406353422072225828488648158456028506016842739452267467678895252138522549954666727823986456596116354886230577456498035593634568174324112515076069479451096596094025228879710893145669136867228748940560101503308617928680920874760917824938589009714909675985261365549781893129784821682998948722658804857564014270477555132379641451523746234364542858444795265867821051141354735739523113427166102135969536231442952484937187110145765403590279934403742007310578539062198387447808478489683321445713868751943506430218453191048481005370614680674919278191197939952061419663428754440643745123718192179998391015919561814675142691239748940907186494231961567945208095146550225231603881930142093762137855956638937787083039069792077346722182562599661501421503068038447734549202605414665925201497442850732518666002132434088190710486331734649651453905796268561005508106658796998163574736384052571459102897064140110971206280439039759515677157700420337869936007230558763176359421873125147120532928191826186125867321579198414848829164470609575270695722091756711672291098169091528017350671274858322287183520935396572512108357915136988209144421006751033467110314126711136990865851639831501970165151168517143765761835155650884909989859982387345528331635507647918535893226185489632132933089857064204675259070915481416549859461637180270981994309924488957571282890592323326097299712084433573265489382391193259746366730583604142813883032038249037589852437441702913276561809377344403070746921120191302033038019762110110044929321516084244485963766983895228684783123552658213144957685726243344189303968642624341077322697802807318915441101044682325271620105265227211166039666557309254711055785376346682065310989652691862056476931257058635662018558100729360659876486117910453348850346113657686753249441668039626579787718556084552965412665408530614344431858676975145661406800700237877659134401712749470420562230538994561314071127000407854733269939081454664645880797270826683063432858785698305235808933065757406795457163775254202114955761581400250126228594130216471550979259230990796547376125517656751357517829666454779174501129961489030463994713296210734043751895735961458901938971311179042978285647503203198691514028708085990480109412147221317947647772622414254854540332157185306142288137585043063321751829798662237172159160771669254748738986654949450114654062843366393790039769265672146385306736096571209180763832716641627488880078692560290228472104031721186082041900042296617119637792133757511495950156604963186294726547364252308177036751590673502350728354056704038674351362222477158915049530984448933309634087807693259939780541934144737744184263129860809988868741326047215695162396586457302163159819319516735381297416772947867242292465436680098067692823828068996400482435403701416314965897940924323789690706977942236250822168895738379862300159377647165122893578601588161755782973523344604281512627203734314653197777416031990665541876397929334419521541341899485444734567383162499341913181480927777103863877343177207545654532207770921201905166096280490926360197598828161332316663652861932668633606273567630354477628035045077723554710585954870279081435624014517180624643626794561275318134078330336254232783944975382437205835311477119926063813346776879695970309833913077109870408591337464144282277263465947047458784778720192771528073176790770715721344473060570073349243693113835049316312840425121925651798069411352801314701304781643788518529092854520116583934196562134914341595625865865570552690496520985803385072242648293972858478316305777756068887644624824685792603953527734803048029005876075825104747091643961362676044925627420420832085661190625454337213153595845068772460290161876679524061634252257719542916299193064553779914037340432875262888963995879475729174642635745525407909145135711136941091193932519107602082520261879853188770584297259167781314969900901921169717372784768472686084900337702424291651300500516832336435038951702989392233451722013812806965011784408745196012122859937162313017114448464090389064495444006198690754851602632750529834918740786680881833851022833450850486082503930213321971551843063545500766828294930413776552793975175461395398468339363830474611996653858153842056853386218672523340283087112328278921250771262946322956398989893582116745627010218356462201349671518819097303811980049734072396103685406643193950979019069963955245300545058068550195673022921913933918568034490398205955100226353536192041994745538593810234395544959778377902374216172711172364343543947822181852862408514006660443325888569867054315470696574745855033232334210730154594051655379068662733379958511562578432298827372319898757141595781119635833005940873068121602876496286744604774649159950549737425626901049037781986835938146574126804925648798556145372347867330390468838343634655379498641927056387293174872332083760112302991136793862708943879936201629515413371424892830722012690147546684765357616477379467520049075715552781965362132392640616013635815590742202020318727760527721900556148425551879253034351398442532234157623361064250639049750086562710953591946589751413103482276930624743536325691607815478181152843667957061108615331504452127473924544945423682886061340841486377670096120715124914043027253860764823634143346235189757664521641376796903149501910857598442391986291642193994907236234646844117394032659184044378051333894525742399508296591228508555821572503107125701266830240292952522011872676756220415420516184163484756516999811614101002996078386909291603028840026910414079288621507842451670908700069928212066041837180653556725253256753286129104248776182582976515795984703562226293486003415872298053498965022629174878820273420922224533985626476691490556284250391275771028402799806636582548892648802545661017296702664076559042909945681506526530537182941270336931378517860904070866711496558343434769338578171138645587367812301458768712660348913909562009939361031029161615288138437909904231747336394804575931493140529763475748119356709110137751721008031559024853090669203767192203322909433467685142214477379393751703443661991040337511173547191855046449026365512816228824462575916333039107225383742182140883508657391771509682887478265699599574490661758344137522397096834080053559849175417381883999446974867626551658276584835884531427756879002909517028352971634456212964043523117600665101241200659755851276178583829204197484423608007193045761893234922927965019875187212726750798125547095890455635792122103334669749923563025494780249011419521238281530911407907386025152274299581807247162591668545133312394804947079119153267343028244186041426363954800044800267049624820179289647669758318327131425170296923488962766844032326092752496035799646925650493681836090032380929345958897069536534940603402166544375589004563288225054525564056448246515187547119621844396582533754388569094113031509526179378002974120766514793942590298969594699556576121865619673378623625612521632086286922210327488921865436480229678070576561514463204692790682120738837781423356282360896320806822246801224826117718589638140918390367367222088832151375560037279839400415297002878307667094447456013455641725437090697939612257142989467154357846878861444581231459357198492252847160504922124247014121478057345510500801908699603302763478708108175450119307141223390866393833952942578690507643100638351983438934159613185434754649556978103829309716465143840700707360411237359984345225161050702705623526601276484830840761183013052793205427462865403603674532865105706587488225698157936789766974220575059683440869735020141020672358502007245225632651341055924019027421624843914035998953539459094407046912091409387001264560016237428802109276457931065792295524988727584610126483699989225695968815920560010165525637568$"
      ],
      "text/plain": [
       "3.1415926535897932384626433832795028841971693993751058209749445923078164062862\n",
       "089986280348253421170679821480865132823066470938446095505822317253594081284811\n",
       "174502841027019385211055596446229489549303819644288109756659334461284756482337\n",
       "867831652712019091456485669234603486104543266482133936072602491412737245870066\n",
       "063155881748815209209628292540917153643678925903600113305305488204665213841469\n",
       "519415116094330572703657595919530921861173819326117931051185480744623799627495\n",
       "673518857527248912279381830119491298336733624406566430860213949463952247371907\n",
       "021798609437027705392171762931767523846748184676694051320005681271452635608277\n",
       "857713427577896091736371787214684409012249534301465495853710507922796892589235\n",
       "420199561121290219608640344181598136297747713099605187072113499999983729780499\n",
       "510597317328160963185950244594553469083026425223082533446850352619311881710100\n",
       "031378387528865875332083814206171776691473035982534904287554687311595628638823\n",
       "537875937519577818577805321712268066130019278766111959092164201989380952572010\n",
       "654858632788659361533818279682303019520353018529689957736225994138912497217752\n",
       "834791315155748572424541506959508295331168617278558890750983817546374649393192\n",
       "550604009277016711390098488240128583616035637076601047101819429555961989467678\n",
       "374494482553797747268471040475346462080466842590694912933136770289891521047521\n",
       "620569660240580381501935112533824300355876402474964732639141992726042699227967\n",
       "823547816360093417216412199245863150302861829745557067498385054945885869269956\n",
       "909272107975093029553211653449872027559602364806654991198818347977535663698074\n",
       "265425278625518184175746728909777727938000816470600161452491921732172147723501\n",
       "414419735685481613611573525521334757418494684385233239073941433345477624168625\n",
       "189835694855620992192221842725502542568876717904946016534668049886272327917860\n",
       "857843838279679766814541009538837863609506800642251252051173929848960841284886\n",
       "269456042419652850222106611863067442786220391949450471237137869609563643719172\n",
       "874677646575739624138908658326459958133904780275900994657640789512694683983525\n",
       "957098258226205224894077267194782684826014769909026401363944374553050682034962\n",
       "524517493996514314298091906592509372216964615157098583874105978859597729754989\n",
       "301617539284681382686838689427741559918559252459539594310499725246808459872736\n",
       "446958486538367362226260991246080512438843904512441365497627807977156914359977\n",
       "001296160894416948685558484063534220722258284886481584560285060168427394522674\n",
       "676788952521385225499546667278239864565961163548862305774564980355936345681743\n",
       "241125150760694794510965960940252288797108931456691368672287489405601015033086\n",
       "179286809208747609178249385890097149096759852613655497818931297848216829989487\n",
       "226588048575640142704775551323796414515237462343645428584447952658678210511413\n",
       "547357395231134271661021359695362314429524849371871101457654035902799344037420\n",
       "073105785390621983874478084784896833214457138687519435064302184531910484810053\n",
       "706146806749192781911979399520614196634287544406437451237181921799983910159195\n",
       "618146751426912397489409071864942319615679452080951465502252316038819301420937\n",
       "621378559566389377870830390697920773467221825625996615014215030680384477345492\n",
       "026054146659252014974428507325186660021324340881907104863317346496514539057962\n",
       "685610055081066587969981635747363840525714591028970641401109712062804390397595\n",
       "156771577004203378699360072305587631763594218731251471205329281918261861258673\n",
       "215791984148488291644706095752706957220917567116722910981690915280173506712748\n",
       "583222871835209353965725121083579151369882091444210067510334671103141267111369\n",
       "908658516398315019701651511685171437657618351556508849099898599823873455283316\n",
       "355076479185358932261854896321329330898570642046752590709154814165498594616371\n",
       "802709819943099244889575712828905923233260972997120844335732654893823911932597\n",
       "463667305836041428138830320382490375898524374417029132765618093773444030707469\n",
       "211201913020330380197621101100449293215160842444859637669838952286847831235526\n",
       "582131449576857262433441893039686426243410773226978028073189154411010446823252\n",
       "716201052652272111660396665573092547110557853763466820653109896526918620564769\n",
       "312570586356620185581007293606598764861179104533488503461136576867532494416680\n",
       "396265797877185560845529654126654085306143444318586769751456614068007002378776\n",
       "591344017127494704205622305389945613140711270004078547332699390814546646458807\n",
       "972708266830634328587856983052358089330657574067954571637752542021149557615814\n",
       "002501262285941302164715509792592309907965473761255176567513575178296664547791\n",
       "745011299614890304639947132962107340437518957359614589019389713111790429782856\n",
       "475032031986915140287080859904801094121472213179476477726224142548545403321571\n",
       "853061422881375850430633217518297986622371721591607716692547487389866549494501\n",
       "146540628433663937900397692656721463853067360965712091807638327166416274888800\n",
       "786925602902284721040317211860820419000422966171196377921337575114959501566049\n",
       "631862947265473642523081770367515906735023507283540567040386743513622224771589\n",
       "150495309844489333096340878076932599397805419341447377441842631298608099888687\n",
       "413260472156951623965864573021631598193195167353812974167729478672422924654366\n",
       "800980676928238280689964004824354037014163149658979409243237896907069779422362\n",
       "508221688957383798623001593776471651228935786015881617557829735233446042815126\n",
       "272037343146531977774160319906655418763979293344195215413418994854447345673831\n",
       "624993419131814809277771038638773431772075456545322077709212019051660962804909\n",
       "263601975988281613323166636528619326686336062735676303544776280350450777235547\n",
       "105859548702790814356240145171806246436267945612753181340783303362542327839449\n",
       "753824372058353114771199260638133467768796959703098339130771098704085913374641\n",
       "442822772634659470474587847787201927715280731767907707157213444730605700733492\n",
       "436931138350493163128404251219256517980694113528013147013047816437885185290928\n",
       "545201165839341965621349143415956258658655705526904965209858033850722426482939\n",
       "728584783163057777560688876446248246857926039535277348030480290058760758251047\n",
       "470916439613626760449256274204208320856611906254543372131535958450687724602901\n",
       "618766795240616342522577195429162991930645537799140373404328752628889639958794\n",
       "757291746426357455254079091451357111369410911939325191076020825202618798531887\n",
       "705842972591677813149699009019211697173727847684726860849003377024242916513005\n",
       "005168323364350389517029893922334517220138128069650117844087451960121228599371\n",
       "623130171144484640903890644954440061986907548516026327505298349187407866808818\n",
       "338510228334508504860825039302133219715518430635455007668282949304137765527939\n",
       "751754613953984683393638304746119966538581538420568533862186725233402830871123\n",
       "282789212507712629463229563989898935821167456270102183564622013496715188190973\n",
       "038119800497340723961036854066431939509790190699639552453005450580685501956730\n",
       "229219139339185680344903982059551002263535361920419947455385938102343955449597\n",
       "783779023742161727111723643435439478221818528624085140066604433258885698670543\n",
       "154706965747458550332323342107301545940516553790686627333799585115625784322988\n",
       "273723198987571415957811196358330059408730681216028764962867446047746491599505\n",
       "497374256269010490377819868359381465741268049256487985561453723478673303904688\n",
       "383436346553794986419270563872931748723320837601123029911367938627089438799362\n",
       "016295154133714248928307220126901475466847653576164773794675200490757155527819\n",
       "653621323926406160136358155907422020203187277605277219005561484255518792530343\n",
       "513984425322341576233610642506390497500865627109535919465897514131034822769306\n",
       "247435363256916078154781811528436679570611086153315044521274739245449454236828\n",
       "860613408414863776700961207151249140430272538607648236341433462351897576645216\n",
       "413767969031495019108575984423919862916421939949072362346468441173940326591840\n",
       "443780513338945257423995082965912285085558215725031071257012668302402929525220\n",
       "118726767562204154205161841634847565169998116141010029960783869092916030288400\n",
       "269104140792886215078424516709087000699282120660418371806535567252532567532861\n",
       "291042487761825829765157959847035622262934860034158722980534989650226291748788\n",
       "202734209222245339856264766914905562842503912757710284027998066365825488926488\n",
       "025456610172967026640765590429099456815065265305371829412703369313785178609040\n",
       "708667114965583434347693385781711386455873678123014587687126603489139095620099\n",
       "393610310291616152881384379099042317473363948045759314931405297634757481193567\n",
       "091101377517210080315590248530906692037671922033229094334676851422144773793937\n",
       "517034436619910403375111735471918550464490263655128162288244625759163330391072\n",
       "253837421821408835086573917715096828874782656995995744906617583441375223970968\n",
       "340800535598491754173818839994469748676265516582765848358845314277568790029095\n",
       "170283529716344562129640435231176006651012412006597558512761785838292041974844\n",
       "236080071930457618932349229279650198751872127267507981255470958904556357921221\n",
       "033346697499235630254947802490114195212382815309114079073860251522742995818072\n",
       "471625916685451333123948049470791191532673430282441860414263639548000448002670\n",
       "496248201792896476697583183271314251702969234889627668440323260927524960357996\n",
       "469256504936818360900323809293459588970695365349406034021665443755890045632882\n",
       "250545255640564482465151875471196218443965825337543885690941130315095261793780\n",
       "029741207665147939425902989695946995565761218656196733786236256125216320862869\n",
       "222103274889218654364802296780705765615144632046927906821207388377814233562823\n",
       "608963208068222468012248261177185896381409183903673672220888321513755600372798\n",
       "394004152970028783076670944474560134556417254370906979396122571429894671543578\n",
       "468788614445812314593571984922528471605049221242470141214780573455105008019086\n",
       "996033027634787081081754501193071412233908663938339529425786905076431006383519\n",
       "834389341596131854347546495569781038293097164651438407007073604112373599843452\n",
       "251610507027056235266012764848308407611830130527932054274628654036036745328651\n",
       "057065874882256981579367897669742205750596834408697350201410206723585020072452\n",
       "256326513410559240190274216248439140359989535394590944070469120914093870012645\n",
       "600162374288021092764579310657922955249887275846101264836999892256959688159205\n",
       "60010165525637568"
      ]
     },
     "execution_count": 204,
     "metadata": {},
     "output_type": "execute_result"
    }
   ],
   "source": [
    "(sp.pi).n(10000)"
   ]
  },
  {
   "cell_type": "code",
   "execution_count": 205,
   "metadata": {},
   "outputs": [],
   "source": [
    "π=sp.pi"
   ]
  },
  {
   "cell_type": "code",
   "execution_count": 206,
   "metadata": {},
   "outputs": [
    {
     "data": {
      "image/png": "[encoded data removed]",
      "text/latex": [
       "$\\displaystyle 3.141592653589793238462643383279502884197169399375105820974944592307816406286208998628034825342117068$"
      ],
      "text/plain": [
       "3.1415926535897932384626433832795028841971693993751058209749445923078164062862\n",
       "08998628034825342117068"
      ]
     },
     "execution_count": 206,
     "metadata": {},
     "output_type": "execute_result"
    }
   ],
   "source": [
    "π.n(100)"
   ]
  },
  {
   "cell_type": "code",
   "execution_count": null,
   "metadata": {},
   "outputs": [],
   "source": []
  }
 ],
 "metadata": {
  "kernelspec": {
   "display_name": "Python 3",
   "language": "python",
   "name": "python3"
  },
  "language_info": {
   "codemirror_mode": {
    "name": "ipython",
    "version": 3
   },
   "file_extension": ".py",
   "mimetype": "text/x-python",
   "name": "python",
   "nbconvert_exporter": "python",
   "pygments_lexer": "ipython3",
   "version": "3.7.3"
  }
 },
 "nbformat": 4,
 "nbformat_minor": 2
}
