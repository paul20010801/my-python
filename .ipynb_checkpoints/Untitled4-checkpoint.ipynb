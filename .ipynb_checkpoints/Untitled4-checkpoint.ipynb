{
 "cells": [
  {
   "cell_type": "code",
   "execution_count": 6,
   "metadata": {},
   "outputs": [
    {
     "name": "stdout",
     "output_type": "stream",
     "text": [
      ">>今天天氣好好喔\n",
      "「感恩老天，讚嘆老天」\n",
      ">>可以去木柵動物園玩了\n",
      "「感恩老天，讚嘆老天」\n",
      ">>也可以搭貓纜\n",
      "「感恩老天，讚嘆老天」\n",
      ">>最重要的是可以練系排喔\n",
      "「感恩老天，讚嘆老天」\n",
      ">>下次再聊喔\n",
      "「感恩老天，讚嘆老天」\n",
      ">>下次再聊\n",
      "「感恩老天，讚嘆老天」\n"
     ]
    }
   ],
   "source": [
    "p='感恩讚嘆機器人'\n",
    "while (p!='下次再聊'):\n",
    "    p=input('>>')\n",
    "    if'天氣好好喔!' in p:\n",
    "        print('「感恩老天，讚嘆老天」')\n",
    "    else:\n",
    "        print('「感恩老天，讚嘆老天」')\n",
    "    "
   ]
  },
  {
   "cell_type": "code",
   "execution_count": null,
   "metadata": {},
   "outputs": [],
   "source": []
  }
 ],
 "metadata": {
  "kernelspec": {
   "display_name": "Python 3",
   "language": "python",
   "name": "python3"
  },
  "language_info": {
   "codemirror_mode": {
    "name": "ipython",
    "version": 3
   },
   "file_extension": ".py",
   "mimetype": "text/x-python",
   "name": "python",
   "nbconvert_exporter": "python",
   "pygments_lexer": "ipython3",
   "version": "3.7.3"
  }
 },
 "nbformat": 4,
 "nbformat_minor": 2
}
