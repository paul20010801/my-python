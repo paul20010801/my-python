{
 "cells": [
  {
   "cell_type": "code",
   "execution_count": 1,
   "metadata": {},
   "outputs": [],
   "source": [
    "%matplotlib inline \n",
    "import numpy as np\n",
    "import matplotlib.pyplot as plt\n",
    "import pandas as pd\n"
   ]
  },
  {
   "cell_type": "code",
   "execution_count": 18,
   "metadata": {},
   "outputs": [
    {
     "data": {
      "text/html": [
       "<div>\n",
       "<style scoped>\n",
       "    .dataframe tbody tr th:only-of-type {\n",
       "        vertical-align: middle;\n",
       "    }\n",
       "\n",
       "    .dataframe tbody tr th {\n",
       "        vertical-align: top;\n",
       "    }\n",
       "\n",
       "    .dataframe thead th {\n",
       "        text-align: right;\n",
       "    }\n",
       "</style>\n",
       "<table border=\"1\" class=\"dataframe\">\n",
       "  <thead>\n",
       "    <tr style=\"text-align: right;\">\n",
       "      <th></th>\n",
       "      <th>總排名</th>\n",
       "      <th>鄉鎮序</th>\n",
       "      <th>鄉／鎮／市</th>\n",
       "      <th>縣</th>\n",
       "      <th>人口</th>\n",
       "      <th>備註</th>\n",
       "    </tr>\n",
       "  </thead>\n",
       "  <tbody>\n",
       "    <tr>\n",
       "      <th>0</th>\n",
       "      <td>1</td>\n",
       "      <td>-</td>\n",
       "      <td>彰化市</td>\n",
       "      <td>彰化縣</td>\n",
       "      <td>232204</td>\n",
       "      <td>人口最多的縣轄市</td>\n",
       "    </tr>\n",
       "    <tr>\n",
       "      <th>1</th>\n",
       "      <td>2</td>\n",
       "      <td>-</td>\n",
       "      <td>屏東市</td>\n",
       "      <td>屏東縣</td>\n",
       "      <td>199266</td>\n",
       "      <td>NaN</td>\n",
       "    </tr>\n",
       "    <tr>\n",
       "      <th>2</th>\n",
       "      <td>3</td>\n",
       "      <td>-</td>\n",
       "      <td>竹北市</td>\n",
       "      <td>新竹縣</td>\n",
       "      <td>192375</td>\n",
       "      <td>NaN</td>\n",
       "    </tr>\n",
       "    <tr>\n",
       "      <th>3</th>\n",
       "      <td>4</td>\n",
       "      <td>-</td>\n",
       "      <td>員林市</td>\n",
       "      <td>彰化縣</td>\n",
       "      <td>124919</td>\n",
       "      <td>NaN</td>\n",
       "    </tr>\n",
       "    <tr>\n",
       "      <th>4</th>\n",
       "      <td>5</td>\n",
       "      <td>-</td>\n",
       "      <td>斗六市</td>\n",
       "      <td>雲林縣</td>\n",
       "      <td>108630</td>\n",
       "      <td>NaN</td>\n",
       "    </tr>\n",
       "  </tbody>\n",
       "</table>\n",
       "</div>"
      ],
      "text/plain": [
       "   總排名 鄉鎮序 鄉／鎮／市    縣      人口        備註\n",
       "0    1   -   彰化市  彰化縣  232204  人口最多的縣轄市\n",
       "1    2   -   屏東市  屏東縣  199266       NaN\n",
       "2    3   -   竹北市  新竹縣  192375       NaN\n",
       "3    4   -   員林市  彰化縣  124919       NaN\n",
       "4    5   -   斗六市  雲林縣  108630       NaN"
      ]
     },
     "execution_count": 18,
     "metadata": {},
     "output_type": "execute_result"
    }
   ],
   "source": [
    "df[2].head()"
   ]
  },
  {
   "cell_type": "code",
   "execution_count": 40,
   "metadata": {},
   "outputs": [],
   "source": [
    "df=pd.read_html('https://zh.wikipedia.org/wiki/%E8%87%BA%E7%81%A3%E8%A1%8C%E6%94%BF%E5%8D%80%E4%BA%BA%E5%8F%A3%E5%88%97%E8%A1%A8')"
   ]
  },
  {
   "cell_type": "code",
   "execution_count": 41,
   "metadata": {},
   "outputs": [
    {
     "name": "stdout",
     "output_type": "stream",
     "text": [
      "0 22\n",
      "1 61\n",
      "2 31\n",
      "3 30\n"
     ]
    }
   ],
   "source": [
    "for i, table in enumerate(df):\n",
    "    print(i, len(table))"
   ]
  },
  {
   "cell_type": "code",
   "execution_count": 42,
   "metadata": {},
   "outputs": [],
   "source": [
    "dfs = df[:1]"
   ]
  },
  {
   "cell_type": "code",
   "execution_count": 43,
   "metadata": {},
   "outputs": [
    {
     "data": {
      "text/plain": [
       "[    排名   縣市   類別       人口\n",
       " 0    1  新北市  直轄市  4012918\n",
       " 1    2  臺中市  直轄市  2812507\n",
       " 2    3  高雄市  直轄市  2773199\n",
       " 3    4  臺北市  直轄市  2647164\n",
       " 4    5  桃園市  直轄市  2242685\n",
       " 5    6  臺南市  直轄市  1881494\n",
       " 6    7  彰化縣    縣  1273130\n",
       " 7    8  屏東縣    縣   820155\n",
       " 8    9  雲林縣    縣   682066\n",
       " 9   10  新竹縣    縣   562674\n",
       " 10  11  苗栗縣    縣   546093\n",
       " 11  12  嘉義縣    縣   503773\n",
       " 12  13  南投縣    縣   494692\n",
       " 13  14  宜蘭縣    縣   454345\n",
       " 14  15  新竹市    市   447952\n",
       " 15  16  基隆市    市   369132\n",
       " 16  17  花蓮縣    縣   326576\n",
       " 17  18  嘉義市    市   267863\n",
       " 18  19  臺東縣    縣   217166\n",
       " 19  20  金門縣    縣   139987\n",
       " 20  21  澎湖縣    縣   105152\n",
       " 21  22  連江縣    縣    13060]"
      ]
     },
     "execution_count": 43,
     "metadata": {},
     "output_type": "execute_result"
    }
   ],
   "source": [
    "dfs"
   ]
  },
  {
   "cell_type": "code",
   "execution_count": 37,
   "metadata": {},
   "outputs": [
    {
     "ename": "AttributeError",
     "evalue": "'list' object has no attribute 'tail'",
     "output_type": "error",
     "traceback": [
      "\u001b[1;31m---------------------------------------------------------------------------\u001b[0m",
      "\u001b[1;31mAttributeError\u001b[0m                            Traceback (most recent call last)",
      "\u001b[1;32m<ipython-input-37-1f8cde2bcd6e>\u001b[0m in \u001b[0;36m<module>\u001b[1;34m\u001b[0m\n\u001b[1;32m----> 1\u001b[1;33m \u001b[0mdf\u001b[0m\u001b[1;33m.\u001b[0m\u001b[0mtail\u001b[0m\u001b[1;33m(\u001b[0m\u001b[1;36m3\u001b[0m\u001b[1;33m)\u001b[0m\u001b[1;33m\u001b[0m\u001b[1;33m\u001b[0m\u001b[0m\n\u001b[0m",
      "\u001b[1;31mAttributeError\u001b[0m: 'list' object has no attribute 'tail'"
     ]
    }
   ],
   "source": []
  },
  {
   "cell_type": "code",
   "execution_count": null,
   "metadata": {},
   "outputs": [],
   "source": []
  }
 ],
 "metadata": {
  "kernelspec": {
   "display_name": "Python 3",
   "language": "python",
   "name": "python3"
  },
  "language_info": {
   "codemirror_mode": {
    "name": "ipython",
    "version": 3
   },
   "file_extension": ".py",
   "mimetype": "text/x-python",
   "name": "python",
   "nbconvert_exporter": "python",
   "pygments_lexer": "ipython3",
   "version": "3.7.3"
  }
 },
 "nbformat": 4,
 "nbformat_minor": 2
}
