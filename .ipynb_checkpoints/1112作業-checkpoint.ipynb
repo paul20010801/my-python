{
 "cells": [
  {
   "cell_type": "code",
   "execution_count": 3,
   "metadata": {},
   "outputs": [],
   "source": [
    "%matplotlib inline \n",
    "import numpy as np\n",
    "import matplotlib.pyplot as plt\n",
    "import pandas as pd\n"
   ]
  },
  {
   "cell_type": "code",
   "execution_count": 5,
   "metadata": {},
   "outputs": [],
   "source": [
    "groups = [\"Movies\", \"Sports\", \"Coding\", \"Fishing\", \"Dancing\", \"cooking\"]  \n",
    "num = [46, 8, 12, 12, 6, 58]\n",
    "dict = {\"groups\": groups, \"num\": num} \n",
    "select_df = pd.DataFrame(dict)\n",
    "\n",
    "       \n",
    "      "
   ]
  },
  {
   "cell_type": "code",
   "execution_count": 6,
   "metadata": {},
   "outputs": [
    {
     "name": "stdout",
     "output_type": "stream",
     "text": [
      "0    46\n",
      "1     8\n",
      "2    12\n",
      "3    12\n",
      "4     6\n",
      "5    58\n",
      "Name: num, dtype: int64\n"
     ]
    }
   ],
   "source": [
    "print(select_df.iloc[:,1])"
   ]
  },
  {
   "cell_type": "code",
   "execution_count": 7,
   "metadata": {},
   "outputs": [
    {
     "name": "stdout",
     "output_type": "stream",
     "text": [
      "0    46\n",
      "1     8\n",
      "2    12\n",
      "3    12\n",
      "4     6\n",
      "5    58\n",
      "Name: num, dtype: int64\n"
     ]
    }
   ],
   "source": [
    "print(select_df[\"num\"])"
   ]
  },
  {
   "cell_type": "code",
   "execution_count": 8,
   "metadata": {},
   "outputs": [
    {
     "name": "stdout",
     "output_type": "stream",
     "text": [
      "46\n"
     ]
    }
   ],
   "source": [
    "print(select_df.iloc[0, 1])"
   ]
  },
  {
   "cell_type": "code",
   "execution_count": null,
   "metadata": {},
   "outputs": [],
   "source": []
  }
 ],
 "metadata": {
  "kernelspec": {
   "display_name": "Python 3",
   "language": "python",
   "name": "python3"
  },
  "language_info": {
   "codemirror_mode": {
    "name": "ipython",
    "version": 3
   },
   "file_extension": ".py",
   "mimetype": "text/x-python",
   "name": "python",
   "nbconvert_exporter": "python",
   "pygments_lexer": "ipython3",
   "version": "3.7.3"
  }
 },
 "nbformat": 4,
 "nbformat_minor": 2
}
