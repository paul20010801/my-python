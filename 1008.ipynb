{
 "cells": [
  {
   "cell_type": "code",
   "execution_count": 1,
   "metadata": {},
   "outputs": [
    {
     "name": "stdout",
     "output_type": "stream",
     "text": [
      ">>為甚麼我的手機打不開阿...\n",
      "讓我看看\n",
      ">>還有救嗎\n",
      "可能跟你的大腦一樣吧\n",
      ">>那我可能要換手機\n",
      "對啊你可以開始考慮了\n",
      ">>i11好了\n",
      "有錢人ㄟ\n",
      ">>突然好了ㄟ\n",
      "好可惜喔\n"
     ]
    }
   ],
   "source": [
    "m='我的手機壞掉了'\n",
    "while (m!='突然好了ㄟ'):\n",
    "    m=input('>>')\n",
    "    if'為甚麼我的手機打不開阿...'in m:\n",
    "        print('讓我看看')\n",
    "    elif'還有救嗎' in m:\n",
    "        print('可能跟你的大腦一樣吧')\n",
    "    elif'那我可能要換手機' in m:\n",
    "        print('對啊你可以開始考慮了')\n",
    "    elif'i11好了' in m:\n",
    "        print('有錢人ㄟ')\n",
    "    else:\n",
    "        print('好可惜喔')"
   ]
  },
  {
   "cell_type": "code",
   "execution_count": null,
   "metadata": {},
   "outputs": [],
   "source": []
  }
 ],
 "metadata": {
  "kernelspec": {
   "display_name": "Python 3",
   "language": "python",
   "name": "python3"
  },
  "language_info": {
   "codemirror_mode": {
    "name": "ipython",
    "version": 3
   },
   "file_extension": ".py",
   "mimetype": "text/x-python",
   "name": "python",
   "nbconvert_exporter": "python",
   "pygments_lexer": "ipython3",
   "version": "3.7.3"
  }
 },
 "nbformat": 4,
 "nbformat_minor": 2
}
