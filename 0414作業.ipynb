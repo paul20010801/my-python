{
 "cells": [
  {
   "cell_type": "code",
   "execution_count": 34,
   "metadata": {},
   "outputs": [],
   "source": [
    "%matplotlib inline\n",
    "import numpy as np\n",
    "import matplotlib.pyplot as plt\n",
    "import tensorflow as tf"
   ]
  },
  {
   "cell_type": "markdown",
   "metadata": {},
   "source": [
    "## 載入套件"
   ]
  },
  {
   "cell_type": "code",
   "execution_count": 35,
   "metadata": {},
   "outputs": [],
   "source": [
    "from tensorflow.keras.datasets import fashion_mnist"
   ]
  },
  {
   "cell_type": "code",
   "execution_count": 36,
   "metadata": {},
   "outputs": [],
   "source": [
    "(x_train, y_train), (x_test, y_test) = fashion_mnist.load_data()"
   ]
  },
  {
   "cell_type": "code",
   "execution_count": 37,
   "metadata": {},
   "outputs": [],
   "source": [
    "class_names = ['T-shirt/top', 'Trouser', 'Pullover', 'Dress', 'Coat',\n",
    "               'Sandal', 'Shirt', 'Sneaker', 'Bag', 'Ankle boot']\n"
   ]
  },
  {
   "cell_type": "code",
   "execution_count": 38,
   "metadata": {},
   "outputs": [],
   "source": [
    "from tensorflow.keras.utils import to_categorical"
   ]
  },
  {
   "cell_type": "code",
   "execution_count": 39,
   "metadata": {},
   "outputs": [],
   "source": [
    "y_train = to_categorical(y_train)\n",
    "y_test_ = to_categorical(y_test)"
   ]
  },
  {
   "cell_type": "code",
   "execution_count": 40,
   "metadata": {},
   "outputs": [],
   "source": [
    "x_train = x_train/255\n",
    "x_test = x_test/255"
   ]
  },
  {
   "cell_type": "code",
   "execution_count": 41,
   "metadata": {},
   "outputs": [],
   "source": [
    "x_train = x_train.reshape(60000, 28, 28, 1)\n",
    "x_test = x_test.reshape(10000, 28, 28, 1)"
   ]
  },
  {
   "cell_type": "markdown",
   "metadata": {},
   "source": [
    "## 開始打造神經網路"
   ]
  },
  {
   "cell_type": "code",
   "execution_count": 42,
   "metadata": {},
   "outputs": [],
   "source": [
    "from tensorflow.keras.models import Sequential\n",
    "from tensorflow.keras.layers import Conv2D, MaxPooling2D\n",
    "from tensorflow.keras.layers import Dense, Flatten\n",
    "from tensorflow.keras.optimizers import SGD"
   ]
  },
  {
   "cell_type": "markdown",
   "metadata": {},
   "source": [
    "## 打造CNN"
   ]
  },
  {
   "cell_type": "code",
   "execution_count": 43,
   "metadata": {},
   "outputs": [],
   "source": [
    "model = Sequential()"
   ]
  },
  {
   "cell_type": "markdown",
   "metadata": {},
   "source": []
  },
  {
   "cell_type": "code",
   "execution_count": 47,
   "metadata": {},
   "outputs": [],
   "source": [
    "model.add(Conv2D(16, (3,3), padding='same',\n",
    "                input_shape=(28,28,1),\n",
    "                activation='relu')) ## 第一層conv為16,max_pooling為2*2\n",
    "model.add(Conv2D(32,(3,3),padding='same',\n",
    "                activation= 'relu'))\n",
    "model.add(MaxPooling2D(pool_size=(2,2))) ## 第二層conv為32,max_pooling為2*2¶\n",
    "\n",
    "model.add(Conv2D(64,(3,3),padding='same',\n",
    "                activation= 'relu'))\n",
    "model.add(MaxPooling2D(pool_size=(2,2)))\n",
    "model.add(Flatten())\n",
    "model.add(Dense(35, activation='relu'))\n",
    "model.add(Dense(10, activation='softmax')) ## 第三層conv為32,max_pooling為2*2"
   ]
  },
  {
   "cell_type": "markdown",
   "metadata": {},
   "source": []
  },
  {
   "cell_type": "code",
   "execution_count": 48,
   "metadata": {},
   "outputs": [
    {
     "name": "stdout",
     "output_type": "stream",
     "text": [
      "Model: \"sequential_1\"\n",
      "_________________________________________________________________\n",
      "Layer (type)                 Output Shape              Param #   \n",
      "=================================================================\n",
      "conv2d_4 (Conv2D)            (None, 28, 28, 16)        160       \n",
      "_________________________________________________________________\n",
      "conv2d_5 (Conv2D)            (None, 28, 28, 32)        4640      \n",
      "_________________________________________________________________\n",
      "max_pooling2d_2 (MaxPooling2 (None, 14, 14, 32)        0         \n",
      "_________________________________________________________________\n",
      "conv2d_6 (Conv2D)            (None, 14, 14, 64)        18496     \n",
      "_________________________________________________________________\n",
      "max_pooling2d_3 (MaxPooling2 (None, 7, 7, 64)          0         \n",
      "_________________________________________________________________\n",
      "flatten_1 (Flatten)          (None, 3136)              0         \n",
      "_________________________________________________________________\n",
      "dense_2 (Dense)              (None, 35)                109795    \n",
      "_________________________________________________________________\n",
      "dense_3 (Dense)              (None, 10)                360       \n",
      "=================================================================\n",
      "Total params: 133,451\n",
      "Trainable params: 133,451\n",
      "Non-trainable params: 0\n",
      "_________________________________________________________________\n"
     ]
    }
   ],
   "source": [
    "model.summary()"
   ]
  },
  {
   "cell_type": "markdown",
   "metadata": {},
   "source": [
    "## 設定learning_Rate為0.06,batch_size為100,epochs為10\n",
    "\n"
   ]
  },
  {
   "cell_type": "code",
   "execution_count": 49,
   "metadata": {},
   "outputs": [],
   "source": [
    "model.compile(loss=\"mse\",optimizer=SGD(lr=0.06),\n",
    "             metrics=[\"accuracy\"])"
   ]
  },
  {
   "cell_type": "code",
   "execution_count": 50,
   "metadata": {},
   "outputs": [
    {
     "name": "stdout",
     "output_type": "stream",
     "text": [
      "Epoch 1/10\n",
      "60000/60000 [==============================] - 73s 1ms/sample - loss: 0.0872 - acc: 0.3242\n",
      "Epoch 2/10\n",
      "60000/60000 [==============================] - 73s 1ms/sample - loss: 0.0493 - acc: 0.6427\n",
      "Epoch 3/10\n",
      "60000/60000 [==============================] - 71s 1ms/sample - loss: 0.0349 - acc: 0.7531\n",
      "Epoch 4/10\n",
      "60000/60000 [==============================] - 74s 1ms/sample - loss: 0.0316 - acc: 0.7795\n",
      "Epoch 5/10\n",
      "60000/60000 [==============================] - 79s 1ms/sample - loss: 0.0295 - acc: 0.7960\n",
      "Epoch 6/10\n",
      "60000/60000 [==============================] - 74s 1ms/sample - loss: 0.0279 - acc: 0.8061\n",
      "Epoch 7/10\n",
      "60000/60000 [==============================] - 74s 1ms/sample - loss: 0.0265 - acc: 0.8163\n",
      "Epoch 8/10\n",
      "60000/60000 [==============================] - 71s 1ms/sample - loss: 0.0255 - acc: 0.8230\n",
      "Epoch 9/10\n",
      "60000/60000 [==============================] - 71s 1ms/sample - loss: 0.0246 - acc: 0.8300\n",
      "Epoch 10/10\n",
      "60000/60000 [==============================] - 72s 1ms/sample - loss: 0.0237 - acc: 0.8380\n"
     ]
    },
    {
     "data": {
      "text/plain": [
       "<tensorflow.python.keras.callbacks.History at 0x26680549ac8>"
      ]
     },
     "execution_count": 50,
     "metadata": {},
     "output_type": "execute_result"
    }
   ],
   "source": [
    "model.fit(x_train,y_train,batch_size=100,epochs=10)"
   ]
  },
  {
   "cell_type": "markdown",
   "metadata": {},
   "source": [
    "## 更改batch_size為150,epochs為15"
   ]
  },
  {
   "cell_type": "code",
   "execution_count": 54,
   "metadata": {},
   "outputs": [
    {
     "name": "stdout",
     "output_type": "stream",
     "text": [
      "Epoch 1/15\n",
      "60000/60000 [==============================] - 72s 1ms/sample - loss: 0.0225 - acc: 0.8450\n",
      "Epoch 2/15\n",
      "60000/60000 [==============================] - 68s 1ms/sample - loss: 0.0221 - acc: 0.8482\n",
      "Epoch 3/15\n",
      "60000/60000 [==============================] - 68s 1ms/sample - loss: 0.0218 - acc: 0.8504\n",
      "Epoch 4/15\n",
      "60000/60000 [==============================] - 67s 1ms/sample - loss: 0.0213 - acc: 0.8536\n",
      "Epoch 5/15\n",
      "60000/60000 [==============================] - 67s 1ms/sample - loss: 0.0212 - acc: 0.8551\n",
      "Epoch 6/15\n",
      "60000/60000 [==============================] - 69s 1ms/sample - loss: 0.0208 - acc: 0.8576\n",
      "Epoch 7/15\n",
      "60000/60000 [==============================] - 68s 1ms/sample - loss: 0.0207 - acc: 0.8588\n",
      "Epoch 8/15\n",
      "60000/60000 [==============================] - 66s 1ms/sample - loss: 0.0202 - acc: 0.8623\n",
      "Epoch 9/15\n",
      "60000/60000 [==============================] - 67s 1ms/sample - loss: 0.0200 - acc: 0.8647\n",
      "Epoch 10/15\n",
      "60000/60000 [==============================] - 66s 1ms/sample - loss: 0.0198 - acc: 0.8665\n",
      "Epoch 11/15\n",
      "60000/60000 [==============================] - 67s 1ms/sample - loss: 0.0196 - acc: 0.8661\n",
      "Epoch 12/15\n",
      "60000/60000 [==============================] - 66s 1ms/sample - loss: 0.0194 - acc: 0.8688\n",
      "Epoch 13/15\n",
      "60000/60000 [==============================] - 66s 1ms/sample - loss: 0.0192 - acc: 0.8699\n",
      "Epoch 14/15\n",
      "60000/60000 [==============================] - 66s 1ms/sample - loss: 0.0190 - acc: 0.8710\n",
      "Epoch 15/15\n",
      "60000/60000 [==============================] - 66s 1ms/sample - loss: 0.0188 - acc: 0.8710\n"
     ]
    },
    {
     "data": {
      "text/plain": [
       "<tensorflow.python.keras.callbacks.History at 0x26680794748>"
      ]
     },
     "execution_count": 54,
     "metadata": {},
     "output_type": "execute_result"
    }
   ],
   "source": [
    "model.compile(loss=\"mse\",optimizer=SGD(lr=0.06),\n",
    "             metrics=[\"accuracy\"])\n",
    "model.fit(x_train,y_train,batch_size=150,epochs=15)"
   ]
  },
  {
   "cell_type": "markdown",
   "metadata": {},
   "source": [
    "## 預測"
   ]
  },
  {
   "cell_type": "code",
   "execution_count": 70,
   "metadata": {},
   "outputs": [],
   "source": [
    "result = model.predict_classes(x_test)"
   ]
  },
  {
   "cell_type": "code",
   "execution_count": 71,
   "metadata": {},
   "outputs": [],
   "source": [
    "def my_predict(n):\n",
    "    print('我的 CNN 預測是', result[n])\n",
    "    X = x_test[n].reshape(28,28)\n",
    "    plt.imshow(X)"
   ]
  },
  {
   "cell_type": "code",
   "execution_count": 72,
   "metadata": {},
   "outputs": [],
   "source": [
    "from ipywidgets import interact_manual"
   ]
  },
  {
   "cell_type": "code",
   "execution_count": 73,
   "metadata": {},
   "outputs": [
    {
     "data": {
      "application/vnd.jupyter.widget-view+json": {
       "model_id": "211a634f7cb14e53b4519c5a9da43be1",
       "version_major": 2,
       "version_minor": 0
      },
      "text/plain": [
       "interactive(children=(IntSlider(value=4999, description='n', max=9999), Button(description='Run Interact', sty…"
      ]
     },
     "metadata": {},
     "output_type": "display_data"
    },
    {
     "data": {
      "text/plain": [
       "<function __main__.my_predict(n)>"
      ]
     },
     "execution_count": 73,
     "metadata": {},
     "output_type": "execute_result"
    }
   ],
   "source": [
    "interact_manual(my_predict, n=(0, 9999))"
   ]
  },
  {
   "cell_type": "code",
   "execution_count": null,
   "metadata": {},
   "outputs": [],
   "source": []
  },
  {
   "cell_type": "code",
   "execution_count": null,
   "metadata": {},
   "outputs": [],
   "source": []
  },
  {
   "cell_type": "code",
   "execution_count": null,
   "metadata": {},
   "outputs": [],
   "source": []
  },
  {
   "cell_type": "code",
   "execution_count": null,
   "metadata": {},
   "outputs": [],
   "source": []
  }
 ],
 "metadata": {
  "kernelspec": {
   "display_name": "Python 3",
   "language": "python",
   "name": "python3"
  },
  "language_info": {
   "codemirror_mode": {
    "name": "ipython",
    "version": 3
   },
   "file_extension": ".py",
   "mimetype": "text/x-python",
   "name": "python",
   "nbconvert_exporter": "python",
   "pygments_lexer": "ipython3",
   "version": "3.7.6"
  }
 },
 "nbformat": 4,
 "nbformat_minor": 4
}
