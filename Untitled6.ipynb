{
 "cells": [
  {
   "cell_type": "code",
   "execution_count": 3,
   "metadata": {},
   "outputs": [
    {
     "name": "stdout",
     "output_type": "stream",
     "text": [
      "輸入第一個號碼6\n",
      "輸入第二個號碼19\n",
      "輸入第三個號碼35\n",
      "5\n",
      "6\n",
      "6\n",
      "中獎了 2 個\n"
     ]
    }
   ],
   "source": [
    "y1= input(\"輸入第一個號碼\")\n",
    "y2= input(\"輸入第二個號碼\")\n",
    "y3= input(\"輸入第三個號碼\")\n",
    "\n",
    "import random\n",
    "score=0\n",
    "\n",
    "for a in range(0,3):\n",
    "    x =int(random.random()*50)\n",
    "    if x is int(y1):\n",
    "        score=score+1\n",
    "    if x is int(y2):\n",
    "        score=score+1\n",
    "    if x is int(y3):\n",
    "        score=score+1\n",
    "    print(x)\n",
    "print(\"中獎了\",score,\"個\")\n"
   ]
  },
  {
   "cell_type": "code",
   "execution_count": null,
   "metadata": {},
   "outputs": [],
   "source": []
  }
 ],
 "metadata": {
  "kernelspec": {
   "display_name": "Python 3",
   "language": "python",
   "name": "python3"
  },
  "language_info": {
   "codemirror_mode": {
    "name": "ipython",
    "version": 3
   },
   "file_extension": ".py",
   "mimetype": "text/x-python",
   "name": "python",
   "nbconvert_exporter": "python",
   "pygments_lexer": "ipython3",
   "version": "3.7.3"
  }
 },
 "nbformat": 4,
 "nbformat_minor": 2
}
