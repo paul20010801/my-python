{
 "cells": [
  {
   "cell_type": "code",
   "execution_count": 9,
   "metadata": {},
   "outputs": [],
   "source": [
    "%matplotlib inline\n",
    "import numpy\n",
    "import math\n",
    "import matplotlib.pyplot as plt\n",
    "import pandas as pd\n",
    "from sympy import *"
   ]
  },
  {
   "cell_type": "code",
   "execution_count": 10,
   "metadata": {},
   "outputs": [],
   "source": [
    "x=symbols('x')"
   ]
  },
  {
   "cell_type": "code",
   "execution_count": 11,
   "metadata": {},
   "outputs": [],
   "source": [
    "def inner_product(f, g):\n",
    "    return integrate(f*g,(x,-1,1))"
   ]
  },
  {
   "cell_type": "markdown",
   "metadata": {},
   "source": [
    " 以<sin(x),x^2-x-1>為例"
   ]
  },
  {
   "cell_type": "code",
   "execution_count": 12,
   "metadata": {},
   "outputs": [
    {
     "name": "stdout",
     "output_type": "stream",
     "text": [
      "-2*sin(1) + 2*cos(1)\n"
     ]
    }
   ],
   "source": [
    "print(inner_product(sin(x),x**2-x-1))"
   ]
  },
  {
   "cell_type": "markdown",
   "metadata": {},
   "source": [
    "G-S Procedure{1,x,x^2,...,x^5}"
   ]
  },
  {
   "cell_type": "code",
   "execution_count": 13,
   "metadata": {},
   "outputs": [],
   "source": [
    "e= []\n",
    "e.append(math.sqrt(1/2))\n",
    "for i in range(1,6):\n",
    "    cnt=i\n",
    "    temp=x**i\n",
    "    cur=temp\n",
    "    while cnt>0:\n",
    "        cur -=((inner_product(temp,e[cnt-1]))*e[cnt-1])\n",
    "        cnt -= 1\n",
    "    l =math.sqrt(inner_product(cur,cur))\n",
    "    e.append(cur/l)\n",
    "        \n"
   ]
  },
  {
   "cell_type": "code",
   "execution_count": 14,
   "metadata": {},
   "outputs": [
    {
     "name": "stdout",
     "output_type": "stream",
     "text": [
      "0.7071067811865476\n",
      "1.22474487139159*x\n",
      "2.37170824512628*x**2 - 0.790569415042095\n",
      "4.67707173346743*x**3 - 2.80624304008046*x\n",
      "9.28077650307345*x**4 - 7.95495128834867*x**2 + 0.795495128834868\n",
      "18.4685120543048*x**5 - 20.5205689492276*x**3 + 4.39726477483448*x\n"
     ]
    }
   ],
   "source": [
    "for j in range(0,6):\n",
    "    print(e[j])"
   ]
  },
  {
   "cell_type": "markdown",
   "metadata": {},
   "source": [
    " PU(sin(x))"
   ]
  },
  {
   "cell_type": "code",
   "execution_count": 17,
   "metadata": {},
   "outputs": [
    {
     "name": "stdout",
     "output_type": "stream",
     "text": [
      "0\n",
      "3.0*pi*x\n",
      "3.0*pi*x\n",
      "3.0*pi*x + (-61.73734688177*pi + 9.35414346693485*pi**3)*(4.67707173346743*x**3 - 2.80624304008046*x)\n",
      "3.0*pi*x + (-61.73734688177*pi + 9.35414346693485*pi**3)*(4.67707173346743*x**3 - 2.80624304008046*x)\n",
      "3.0*pi*x + (-61.73734688177*pi + 9.35414346693485*pi**3)*(4.67707173346743*x**3 - 2.80624304008046*x) + (-779.781620070647*pi**3 + 36.9370241086096*pi**5 + 4687.48424997355*pi)*(18.4685120543048*x**5 - 20.5205689492276*x**3 + 4.39726477483448*x)\n"
     ]
    }
   ],
   "source": [
    "def inner_product_pi(f,g):\n",
    "    return integrate(f*g,(x,-(pi),pi))\n",
    "Pu = 0\n",
    "for k in range(0,6):\n",
    "    Pu += inner_product_pi(sin(x),e[k])*e[k]\n",
    "\n",
    "    print(Pu)    "
   ]
  },
  {
   "cell_type": "code",
   "execution_count": null,
   "metadata": {},
   "outputs": [],
   "source": []
  }
 ],
 "metadata": {
  "kernelspec": {
   "display_name": "Python 3",
   "language": "python",
   "name": "python3"
  },
  "language_info": {
   "codemirror_mode": {
    "name": "ipython",
    "version": 3
   },
   "file_extension": ".py",
   "mimetype": "text/x-python",
   "name": "python",
   "nbconvert_exporter": "python",
   "pygments_lexer": "ipython3",
   "version": "3.7.6"
  }
 },
 "nbformat": 4,
 "nbformat_minor": 4
}
